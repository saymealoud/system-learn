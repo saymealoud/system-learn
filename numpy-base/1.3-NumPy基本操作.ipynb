{
 "cells": [
  {
   "cell_type": "markdown",
   "metadata": {},
   "source": [
    "## 1.3.1 索引\n",
    "\n",
    "* 单个元素索引：一维数组、负数索引\n",
    "* 二维数组的索引\n",
    "\n",
    "## 1.3.2 切片\n",
    "\n",
    "* 切片\n",
    "* 跨步\n",
    "* 索引数组：针对多维数组的索引\n",
    "* 索引结合切片\n",
    "\n",
    "*更多参考：[NumPy中文网-索引部分](https://www.numpy.org.cn/user/basics/indexing.html#%E8%B5%8B%E5%80%BC%E4%B8%8E%E5%BC%95%E7%94%A8)*"
   ]
  },
  {
   "cell_type": "code",
   "metadata": {
    "ExecuteTime": {
     "end_time": "2024-05-18T17:26:49.133820Z",
     "start_time": "2024-05-18T17:26:49.131876Z"
    }
   },
   "source": [
    "import numpy as np"
   ],
   "outputs": [],
   "execution_count": 26
  },
  {
   "cell_type": "code",
   "metadata": {
    "ExecuteTime": {
     "end_time": "2024-05-18T17:26:49.170746Z",
     "start_time": "2024-05-18T17:26:49.168387Z"
    }
   },
   "source": [
    "# 1.3.1 一维数组索引\n",
    "array1 = np.array([1,2,3,4,5])\n",
    "array1"
   ],
   "outputs": [
    {
     "data": {
      "text/plain": [
       "array([1, 2, 3, 4, 5])"
      ]
     },
     "execution_count": 27,
     "metadata": {},
     "output_type": "execute_result"
    }
   ],
   "execution_count": 27
  },
  {
   "cell_type": "code",
   "metadata": {
    "ExecuteTime": {
     "end_time": "2024-05-18T17:26:49.179298Z",
     "start_time": "2024-05-18T17:26:49.177302Z"
    }
   },
   "source": [
    "# 取第4个数值\n",
    "array1[3]`"
   ],
   "outputs": [
    {
     "ename": "SyntaxError",
     "evalue": "invalid syntax (2959065993.py, line 2)",
     "output_type": "error",
     "traceback": [
      "\u001B[0;36m  Cell \u001B[0;32mIn[28], line 2\u001B[0;36m\u001B[0m\n\u001B[0;31m    array1[3]`\u001B[0m\n\u001B[0m             ^\u001B[0m\n\u001B[0;31mSyntaxError\u001B[0m\u001B[0;31m:\u001B[0m invalid syntax\n"
     ]
    }
   ],
   "execution_count": 28
  },
  {
   "cell_type": "code",
   "metadata": {
    "ExecuteTime": {
     "end_time": "2024-05-18T17:26:49.181825Z",
     "start_time": "2024-05-18T17:26:49.179957Z"
    }
   },
   "source": [
    "array1[-2]"
   ],
   "outputs": [
    {
     "data": {
      "text/plain": [
       "4"
      ]
     },
     "execution_count": 29,
     "metadata": {},
     "output_type": "execute_result"
    }
   ],
   "execution_count": 29
  },
  {
   "cell_type": "code",
   "metadata": {
    "ExecuteTime": {
     "end_time": "2024-05-18T17:26:49.190313Z",
     "start_time": "2024-05-18T17:26:49.188175Z"
    }
   },
   "source": [
    "# 二维数组\n",
    "array2 = np.arange(14).reshape(2,7)\n",
    "array2"
   ],
   "outputs": [
    {
     "data": {
      "text/plain": [
       "array([[ 0,  1,  2,  3,  4,  5,  6],\n",
       "       [ 7,  8,  9, 10, 11, 12, 13]])"
      ]
     },
     "execution_count": 30,
     "metadata": {},
     "output_type": "execute_result"
    }
   ],
   "execution_count": 30
  },
  {
   "cell_type": "code",
   "metadata": {
    "ExecuteTime": {
     "end_time": "2024-05-18T17:26:49.210351Z",
     "start_time": "2024-05-18T17:26:49.208370Z"
    }
   },
   "source": [
    "array2[0,3]"
   ],
   "outputs": [
    {
     "data": {
      "text/plain": [
       "3"
      ]
     },
     "execution_count": 31,
     "metadata": {},
     "output_type": "execute_result"
    }
   ],
   "execution_count": 31
  },
  {
   "cell_type": "code",
   "metadata": {
    "ExecuteTime": {
     "end_time": "2024-05-18T17:26:49.236898Z",
     "start_time": "2024-05-18T17:26:49.234663Z"
    }
   },
   "source": [
    "array2[0][3]"
   ],
   "outputs": [
    {
     "data": {
      "text/plain": [
       "3"
      ]
     },
     "execution_count": 32,
     "metadata": {},
     "output_type": "execute_result"
    }
   ],
   "execution_count": 32
  },
  {
   "cell_type": "code",
   "metadata": {
    "ExecuteTime": {
     "end_time": "2024-05-18T17:26:49.248305Z",
     "start_time": "2024-05-18T17:26:49.246185Z"
    }
   },
   "source": [
    "array2[1,-1]"
   ],
   "outputs": [
    {
     "data": {
      "text/plain": [
       "13"
      ]
     },
     "execution_count": 33,
     "metadata": {},
     "output_type": "execute_result"
    }
   ],
   "execution_count": 33
  },
  {
   "cell_type": "code",
   "metadata": {
    "ExecuteTime": {
     "end_time": "2024-05-18T17:26:49.250729Z",
     "start_time": "2024-05-18T17:26:49.248973Z"
    }
   },
   "source": [
    "array2[1,-2]"
   ],
   "outputs": [
    {
     "data": {
      "text/plain": [
       "12"
      ]
     },
     "execution_count": 34,
     "metadata": {},
     "output_type": "execute_result"
    }
   ],
   "execution_count": 34
  },
  {
   "cell_type": "code",
   "metadata": {
    "ExecuteTime": {
     "end_time": "2024-05-18T17:26:49.253551Z",
     "start_time": "2024-05-18T17:26:49.251510Z"
    }
   },
   "source": [
    "array2[-1,-1]"
   ],
   "outputs": [
    {
     "data": {
      "text/plain": [
       "13"
      ]
     },
     "execution_count": 35,
     "metadata": {},
     "output_type": "execute_result"
    }
   ],
   "execution_count": 35
  },
  {
   "cell_type": "code",
   "metadata": {
    "ExecuteTime": {
     "end_time": "2024-05-18T17:26:49.268410Z",
     "start_time": "2024-05-18T17:26:49.266264Z"
    }
   },
   "source": [
    "# 三维数组\n",
    "array3 = np.arange(30).reshape(2,3,5)\n",
    "array3"
   ],
   "outputs": [
    {
     "data": {
      "text/plain": [
       "array([[[ 0,  1,  2,  3,  4],\n",
       "        [ 5,  6,  7,  8,  9],\n",
       "        [10, 11, 12, 13, 14]],\n",
       "\n",
       "       [[15, 16, 17, 18, 19],\n",
       "        [20, 21, 22, 23, 24],\n",
       "        [25, 26, 27, 28, 29]]])"
      ]
     },
     "execution_count": 36,
     "metadata": {},
     "output_type": "execute_result"
    }
   ],
   "execution_count": 36
  },
  {
   "cell_type": "code",
   "metadata": {
    "ExecuteTime": {
     "end_time": "2024-05-18T17:26:49.285423Z",
     "start_time": "2024-05-18T17:26:49.283318Z"
    }
   },
   "source": [
    "array3[0,1,2]"
   ],
   "outputs": [
    {
     "data": {
      "text/plain": [
       "7"
      ]
     },
     "execution_count": 37,
     "metadata": {},
     "output_type": "execute_result"
    }
   ],
   "execution_count": 37
  },
  {
   "cell_type": "code",
   "metadata": {
    "ExecuteTime": {
     "end_time": "2024-05-18T17:26:49.292862Z",
     "start_time": "2024-05-18T17:26:49.290888Z"
    }
   },
   "source": [
    "array3[0][1][2]"
   ],
   "outputs": [
    {
     "data": {
      "text/plain": [
       "7"
      ]
     },
     "execution_count": 38,
     "metadata": {},
     "output_type": "execute_result"
    }
   ],
   "execution_count": 38
  },
  {
   "cell_type": "code",
   "metadata": {
    "ExecuteTime": {
     "end_time": "2024-05-18T17:26:49.299581Z",
     "start_time": "2024-05-18T17:26:49.297834Z"
    }
   },
   "source": [
    "# 1.3.2 切片\n",
    "array1"
   ],
   "outputs": [
    {
     "data": {
      "text/plain": [
       "array([1, 2, 3, 4, 5])"
      ]
     },
     "execution_count": 39,
     "metadata": {},
     "output_type": "execute_result"
    }
   ],
   "execution_count": 39
  },
  {
   "cell_type": "code",
   "metadata": {
    "ExecuteTime": {
     "end_time": "2024-05-18T17:26:49.302892Z",
     "start_time": "2024-05-18T17:26:49.300929Z"
    }
   },
   "source": [
    "array1[0:3] # a~b，a<=x<b"
   ],
   "outputs": [
    {
     "data": {
      "text/plain": [
       "array([1, 2, 3])"
      ]
     },
     "execution_count": 40,
     "metadata": {},
     "output_type": "execute_result"
    }
   ],
   "execution_count": 40
  },
  {
   "cell_type": "code",
   "metadata": {
    "ExecuteTime": {
     "end_time": "2024-05-18T17:26:49.309113Z",
     "start_time": "2024-05-18T17:26:49.307274Z"
    }
   },
   "source": [
    "array1[2:6]"
   ],
   "outputs": [
    {
     "data": {
      "text/plain": [
       "array([3, 4, 5])"
      ]
     },
     "execution_count": 41,
     "metadata": {},
     "output_type": "execute_result"
    }
   ],
   "execution_count": 41
  },
  {
   "cell_type": "code",
   "metadata": {
    "ExecuteTime": {
     "end_time": "2024-05-18T17:26:49.319373Z",
     "start_time": "2024-05-18T17:26:49.317534Z"
    }
   },
   "source": [
    "array1[2:]"
   ],
   "outputs": [
    {
     "data": {
      "text/plain": [
       "array([3, 4, 5])"
      ]
     },
     "execution_count": 42,
     "metadata": {},
     "output_type": "execute_result"
    }
   ],
   "execution_count": 42
  },
  {
   "cell_type": "code",
   "metadata": {
    "ExecuteTime": {
     "end_time": "2024-05-18T17:26:49.323791Z",
     "start_time": "2024-05-18T17:26:49.322054Z"
    }
   },
   "source": [
    "array1[:-1]"
   ],
   "outputs": [
    {
     "data": {
      "text/plain": [
       "array([1, 2, 3, 4])"
      ]
     },
     "execution_count": 43,
     "metadata": {},
     "output_type": "execute_result"
    }
   ],
   "execution_count": 43
  },
  {
   "cell_type": "code",
   "metadata": {
    "ExecuteTime": {
     "end_time": "2024-05-18T17:26:49.331190Z",
     "start_time": "2024-05-18T17:26:49.329329Z"
    }
   },
   "source": [
    "# 二维数组切片\n",
    "array2"
   ],
   "outputs": [
    {
     "data": {
      "text/plain": [
       "array([[ 0,  1,  2,  3,  4,  5,  6],\n",
       "       [ 7,  8,  9, 10, 11, 12, 13]])"
      ]
     },
     "execution_count": 44,
     "metadata": {},
     "output_type": "execute_result"
    }
   ],
   "execution_count": 44
  },
  {
   "cell_type": "code",
   "metadata": {
    "ExecuteTime": {
     "end_time": "2024-05-18T17:26:49.337815Z",
     "start_time": "2024-05-18T17:26:49.336034Z"
    }
   },
   "source": [
    "array2[1:,:] # 行参数、列参数"
   ],
   "outputs": [
    {
     "data": {
      "text/plain": [
       "array([[ 7,  8,  9, 10, 11, 12, 13]])"
      ]
     },
     "execution_count": 45,
     "metadata": {},
     "output_type": "execute_result"
    }
   ],
   "execution_count": 45
  },
  {
   "cell_type": "code",
   "metadata": {
    "ExecuteTime": {
     "end_time": "2024-05-18T17:26:49.340163Z",
     "start_time": "2024-05-18T17:26:49.338441Z"
    }
   },
   "source": [
    "array2[:,3:4]"
   ],
   "outputs": [
    {
     "data": {
      "text/plain": [
       "array([[ 3],\n",
       "       [10]])"
      ]
     },
     "execution_count": 46,
     "metadata": {},
     "output_type": "execute_result"
    }
   ],
   "execution_count": 46
  },
  {
   "cell_type": "code",
   "metadata": {
    "ExecuteTime": {
     "end_time": "2024-05-18T17:26:49.355084Z",
     "start_time": "2024-05-18T17:26:49.353285Z"
    }
   },
   "source": [
    "array2[1:,3:4]"
   ],
   "outputs": [
    {
     "data": {
      "text/plain": [
       "array([[10]])"
      ]
     },
     "execution_count": 47,
     "metadata": {},
     "output_type": "execute_result"
    }
   ],
   "execution_count": 47
  },
  {
   "cell_type": "code",
   "metadata": {
    "ExecuteTime": {
     "end_time": "2024-05-18T17:26:49.357806Z",
     "start_time": "2024-05-18T17:26:49.355803Z"
    }
   },
   "source": [
    "# 三维数组\n",
    "array3"
   ],
   "outputs": [
    {
     "data": {
      "text/plain": [
       "array([[[ 0,  1,  2,  3,  4],\n",
       "        [ 5,  6,  7,  8,  9],\n",
       "        [10, 11, 12, 13, 14]],\n",
       "\n",
       "       [[15, 16, 17, 18, 19],\n",
       "        [20, 21, 22, 23, 24],\n",
       "        [25, 26, 27, 28, 29]]])"
      ]
     },
     "execution_count": 48,
     "metadata": {},
     "output_type": "execute_result"
    }
   ],
   "execution_count": 48
  },
  {
   "cell_type": "code",
   "metadata": {
    "ExecuteTime": {
     "end_time": "2024-05-18T17:26:49.364921Z",
     "start_time": "2024-05-18T17:26:49.363009Z"
    }
   },
   "source": [
    "array3[0:1,2:,:]"
   ],
   "outputs": [
    {
     "data": {
      "text/plain": [
       "array([[[10, 11, 12, 13, 14]]])"
      ]
     },
     "execution_count": 49,
     "metadata": {},
     "output_type": "execute_result"
    }
   ],
   "execution_count": 49
  },
  {
   "cell_type": "code",
   "metadata": {
    "ExecuteTime": {
     "end_time": "2024-05-18T17:26:49.373946Z",
     "start_time": "2024-05-18T17:26:49.372649Z"
    }
   },
   "source": "#array3[0:1,2:,:][2]",
   "outputs": [],
   "execution_count": 50
  },
  {
   "cell_type": "code",
   "metadata": {
    "ExecuteTime": {
     "end_time": "2024-05-18T17:26:49.377439Z",
     "start_time": "2024-05-18T17:26:49.375532Z"
    }
   },
   "source": [
    "array3[0:1,2:,:][0,0,2] # 索引结合切片"
   ],
   "outputs": [
    {
     "data": {
      "text/plain": [
       "12"
      ]
     },
     "execution_count": 51,
     "metadata": {},
     "output_type": "execute_result"
    }
   ],
   "execution_count": 51
  },
  {
   "cell_type": "code",
   "metadata": {
    "ExecuteTime": {
     "end_time": "2024-05-18T17:26:49.394869Z",
     "start_time": "2024-05-18T17:26:49.392577Z"
    }
   },
   "source": [
    "# 索引多个数值\n",
    "array1"
   ],
   "outputs": [
    {
     "data": {
      "text/plain": [
       "array([1, 2, 3, 4, 5])"
      ]
     },
     "execution_count": 52,
     "metadata": {},
     "output_type": "execute_result"
    }
   ],
   "execution_count": 52
  },
  {
   "cell_type": "code",
   "metadata": {
    "ExecuteTime": {
     "end_time": "2024-05-18T17:26:49.414729Z",
     "start_time": "2024-05-18T17:26:49.412594Z"
    }
   },
   "source": [
    "array1[np.array([0,2,4])]"
   ],
   "outputs": [
    {
     "data": {
      "text/plain": [
       "array([1, 3, 5])"
      ]
     },
     "execution_count": 53,
     "metadata": {},
     "output_type": "execute_result"
    }
   ],
   "execution_count": 53
  },
  {
   "cell_type": "code",
   "metadata": {
    "ExecuteTime": {
     "end_time": "2024-05-18T17:26:49.431544Z",
     "start_time": "2024-05-18T17:26:49.429448Z"
    }
   },
   "source": [
    "# 二维数组\n",
    "array2"
   ],
   "outputs": [
    {
     "data": {
      "text/plain": [
       "array([[ 0,  1,  2,  3,  4,  5,  6],\n",
       "       [ 7,  8,  9, 10, 11, 12, 13]])"
      ]
     },
     "execution_count": 54,
     "metadata": {},
     "output_type": "execute_result"
    }
   ],
   "execution_count": 54
  },
  {
   "cell_type": "code",
   "metadata": {
    "ExecuteTime": {
     "end_time": "2024-05-18T17:26:49.434469Z",
     "start_time": "2024-05-18T17:26:49.432844Z"
    }
   },
   "source": [
    "array2[np.array([0,1]), np.array([1,2])]"
   ],
   "outputs": [
    {
     "data": {
      "text/plain": [
       "array([1, 9])"
      ]
     },
     "execution_count": 55,
     "metadata": {},
     "output_type": "execute_result"
    }
   ],
   "execution_count": 55
  },
  {
   "cell_type": "code",
   "metadata": {
    "ExecuteTime": {
     "end_time": "2024-05-18T17:26:49.441519Z",
     "start_time": "2024-05-18T17:26:49.440447Z"
    }
   },
   "source": [],
   "outputs": [],
   "execution_count": 55
  }
 ],
 "metadata": {
  "kernelspec": {
   "display_name": "Python 3",
   "language": "python",
   "name": "python3"
  },
  "language_info": {
   "codemirror_mode": {
    "name": "ipython",
    "version": 3
   },
   "file_extension": ".py",
   "mimetype": "text/x-python",
   "name": "python",
   "nbconvert_exporter": "python",
   "pygments_lexer": "ipython3",
   "version": "3.7.6"
  }
 },
 "nbformat": 4,
 "nbformat_minor": 4
}
