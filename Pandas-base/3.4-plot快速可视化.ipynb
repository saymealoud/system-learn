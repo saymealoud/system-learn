{
 "cells": [
  {
   "cell_type": "code",
   "execution_count": 1,
   "metadata": {},
   "outputs": [],
   "source": [
    "import pandas as pd\n",
    "import numpy as np"
   ]
  },
  {
   "cell_type": "code",
   "execution_count": 3,
   "metadata": {},
   "outputs": [],
   "source": [
    "# 3.4.1 dataframe.plot功能\n",
    "# https://pandas.pydata.org/pandas-docs/stable/reference/frame.html#plotting"
   ]
  },
  {
   "cell_type": "code",
   "execution_count": 4,
   "metadata": {},
   "outputs": [],
   "source": [
    "# 3.4.2 单样本：生成随机数时间序列 -> 可视化数据样本 -> 模拟处理、绘制"
   ]
  },
  {
   "cell_type": "code",
   "execution_count": 6,
   "metadata": {},
   "outputs": [],
   "source": [
    "df = np.random.randn?"
   ]
  },
  {
   "cell_type": "code",
   "execution_count": 7,
   "metadata": {},
   "outputs": [
    {
     "data": {
      "text/plain": [
       "array([ 4.62261957e-02, -4.78347625e-01, -4.29762523e-01,  1.07370720e+00,\n",
       "        1.11543771e+00, -1.85090817e+00,  1.01021182e+00,  4.77293775e-01,\n",
       "       -6.60206977e-02,  1.81095349e-02, -1.71730784e-01, -6.24928725e-02,\n",
       "        5.85116579e-01,  9.47386740e-02,  1.20726054e+00,  9.60393869e-01,\n",
       "        9.03690223e-01,  8.14037354e-01, -1.42747734e+00,  5.36951420e-01,\n",
       "        7.60508327e-01,  5.24290885e-01, -1.36301770e+00, -2.89164746e-01,\n",
       "        5.71086096e-01, -1.69381004e-01,  1.78662678e+00,  9.03759513e-01,\n",
       "        2.09040136e-01, -4.08014767e-02,  5.49169301e-01, -1.26980864e+00,\n",
       "        1.75626101e+00, -1.86582228e+00,  2.15009281e-01,  9.47664969e-01,\n",
       "       -1.33605022e+00, -2.58248621e-02,  3.74292195e-01,  1.69887963e+00,\n",
       "       -2.65740495e-02,  2.88063247e-01, -1.19801047e+00,  7.84128448e-01,\n",
       "       -6.24339010e-01, -1.01052743e+00,  6.13893723e-01,  5.47145910e-01,\n",
       "        2.09157998e-01,  1.20872281e+00,  4.99119569e-01, -2.38596343e+00,\n",
       "       -3.68095941e-01,  4.62804809e-01,  9.25028570e-02, -1.81596966e+00,\n",
       "       -1.89940590e+00, -1.35506345e+00,  1.30863835e+00,  9.14681866e-02,\n",
       "        2.30012124e+00, -1.05503324e+00,  9.54559787e-01,  1.42507471e+00,\n",
       "        6.38898068e-01, -7.78518397e-01,  1.48500617e+00, -1.18210767e+00,\n",
       "       -1.86386800e-01, -2.43934672e+00, -9.73107087e-01,  3.99155326e-01,\n",
       "        2.40706694e-01, -4.50443236e-01, -1.98005826e+00, -4.02951453e-01,\n",
       "        1.76948009e+00,  4.02555023e-02, -1.09988638e+00, -1.35731080e+00,\n",
       "        1.14384724e+00,  2.60054822e+00, -1.06482839e+00,  2.06864564e-02,\n",
       "       -5.03830641e-01,  1.95295305e-01,  6.57270961e-01, -7.58088292e-01,\n",
       "        1.11783675e+00, -1.08517221e+00,  4.58742989e-01,  2.42425062e+00,\n",
       "        3.59917033e-01, -1.26372223e+00,  1.96184371e+00, -4.45453530e-02,\n",
       "        9.53437371e-01, -2.97847977e-02, -3.57873836e-01, -4.73263021e-01,\n",
       "        9.12836453e-01, -3.17020929e-01, -7.98002263e-01,  8.49819541e-01,\n",
       "       -1.72068543e+00,  5.24315959e-01, -1.09287261e-01, -2.12230642e-01,\n",
       "       -8.61131860e-01,  2.08746146e+00, -5.71263798e-01, -1.08943778e+00,\n",
       "       -3.35622755e-01, -1.19579526e+00, -9.12968643e-01, -1.90686473e+00,\n",
       "        1.79916857e+00,  1.04932370e+00, -2.20336490e+00, -4.79577004e-01,\n",
       "       -1.14048175e+00, -3.74820505e-01,  4.44815414e-01, -5.90794321e-01,\n",
       "       -2.17760696e-02,  6.42957036e-01, -6.09641377e-02,  1.38267210e+00,\n",
       "       -1.67726685e+00, -5.90613052e-01, -1.94644455e+00,  4.88280082e-01,\n",
       "        4.20356778e-01, -1.98289735e+00,  1.12918798e+00, -8.64402795e-01,\n",
       "        9.07775887e-01,  3.36529895e-01,  9.84185442e-01, -2.02611348e+00,\n",
       "        1.64800082e+00,  6.80354715e-02, -2.38173651e-01,  7.51436078e-01,\n",
       "       -7.17270042e-01,  9.65216805e-01,  5.24945534e-01, -1.27788507e+00,\n",
       "       -8.86340004e-01, -1.71635694e+00,  8.80572382e-01,  4.43177518e-02,\n",
       "        1.94080936e-01, -1.05097268e+00, -1.23083294e+00, -2.22149565e-01,\n",
       "       -4.75675384e-01,  2.13799514e-01,  1.17202359e+00, -9.05947773e-01,\n",
       "       -2.98826478e+00,  4.73293885e-01,  7.21677024e-01,  1.14938227e+00,\n",
       "       -1.61873751e+00, -5.22600746e-01,  9.13264920e-01,  6.60912242e-01,\n",
       "       -1.13291347e+00, -1.08039987e+00, -4.23042233e-01,  1.58402886e-01,\n",
       "        2.99741179e-02,  1.02199953e+00, -1.46570248e+00, -9.50623675e-01,\n",
       "       -3.36019515e-01,  1.69321716e+00, -1.81725852e-01, -8.94084379e-01,\n",
       "        1.88594599e-01, -1.40887890e+00, -4.96081832e-01, -3.86540764e-01,\n",
       "       -8.30730970e-01, -7.41528948e-01,  4.72002224e-01,  7.03636137e-01,\n",
       "        6.63885617e-01,  6.19544856e-01,  1.95593538e+00, -4.49151324e-01,\n",
       "       -4.84620604e-01, -9.39153786e-01, -7.62535561e-01, -1.76130600e+00,\n",
       "        1.41631739e+00,  7.38365183e-01,  1.36862656e+00, -1.44566633e-01,\n",
       "        5.98801899e-01,  1.90194903e-01,  5.74000482e-01, -2.26045625e+00,\n",
       "        5.45332904e-01, -1.78807933e-01,  1.41464372e+00, -1.61603714e+00,\n",
       "        9.87117366e-01,  6.76660619e-02, -2.39280080e-01, -2.23938916e+00,\n",
       "        2.42558407e-01, -9.12281059e-01, -5.15008131e-01, -1.57955485e-01,\n",
       "       -1.36144423e+00, -1.42554780e+00,  6.41494203e-01,  1.42884551e+00,\n",
       "        5.35411442e-01, -9.85670642e-01,  9.64020898e-01,  1.05573614e+00,\n",
       "       -1.45751737e+00,  2.02050308e-01, -6.40353287e-02,  1.56825074e-01,\n",
       "       -1.96086663e+00, -1.72993711e+00, -4.26171829e-01, -1.15050253e+00,\n",
       "       -2.66430457e+00, -5.66640597e-01, -2.87097165e-01, -1.35106813e+00,\n",
       "        1.88974861e-01, -9.36027755e-02,  1.21730302e+00, -8.47146058e-01,\n",
       "        7.17757644e-01, -7.45128946e-03, -9.34774477e-02, -1.38111654e+00,\n",
       "        1.36574251e-01,  1.22771143e+00, -1.94270311e-01,  4.26256260e-01,\n",
       "       -2.63980771e-01,  1.01197823e+00,  9.90786961e-01, -1.39937828e+00,\n",
       "        2.54150626e-01, -1.35371233e+00, -3.01318422e-01, -1.18543538e+00,\n",
       "       -1.29401323e-01,  4.39842655e-01, -1.56878187e+00,  7.92782985e-01,\n",
       "        3.72676591e-01,  5.28534877e-02,  7.79001472e-01,  5.36296428e-01,\n",
       "        5.40111577e-01, -1.34563085e+00, -3.94224908e-01, -3.43157429e-01,\n",
       "       -1.00673816e+00,  8.07047152e-01, -2.73076179e-02,  4.15945177e-01,\n",
       "       -4.40277215e-01,  5.26734144e-01, -1.02961477e+00, -1.33299510e-01,\n",
       "        2.40218922e-01,  9.27089783e-03,  3.47492648e-01,  1.96869142e+00,\n",
       "       -1.67284420e+00, -2.40825472e-02,  7.44952846e-01, -8.81646230e-03,\n",
       "       -1.13099628e+00,  5.65529126e-01, -6.64842352e-01,  6.36821553e-01,\n",
       "       -9.26805374e-01, -2.00785303e-01, -2.19107195e-02, -7.65724011e-01,\n",
       "       -2.05757075e+00,  6.32936651e-01, -9.22517486e-01, -1.15175559e+00,\n",
       "       -5.55913693e-01,  5.83448806e-01,  5.47258552e-01, -8.27443431e-01,\n",
       "        8.05887769e-01, -1.07672827e-01, -5.12922763e-01, -2.73677197e-01,\n",
       "        9.29146798e-01, -8.49122723e-01,  1.73267234e+00, -3.02876114e-02,\n",
       "        8.45003996e-02,  8.86535883e-01, -9.24645333e-01,  1.67155594e+00,\n",
       "        5.07414632e-01,  1.68370709e+00,  3.27263052e-01, -1.51752609e-01,\n",
       "       -2.01632838e-01, -7.21070848e-01, -6.03619337e-01, -5.87415792e-02,\n",
       "        7.01447354e-01, -1.38777548e-01, -3.42123456e-02, -2.72157090e+00,\n",
       "       -1.92801497e+00, -9.92758217e-01,  1.08173317e+00,  8.72634753e-02,\n",
       "       -1.27809206e+00, -8.62636778e-01,  6.31150926e-02, -7.25629188e-02,\n",
       "        5.85656477e-01, -3.02367214e-01,  1.34089786e+00, -1.00136537e+00,\n",
       "       -4.05628877e-01, -8.11182453e-01,  5.00492531e-01,  2.20709713e+00,\n",
       "       -3.89937121e-01, -7.25168267e-02,  5.76718655e-01,  8.84609759e-01,\n",
       "       -4.03095942e-01, -9.56340112e-01,  6.25565520e-01, -1.27185475e+00,\n",
       "       -1.84079214e+00,  7.47918483e-01,  9.14772921e-02, -1.34460189e-01,\n",
       "       -2.43707060e-03,  8.05834708e-01, -1.45472798e+00,  9.46342204e-02,\n",
       "       -1.02671349e+00,  1.08736624e+00,  7.55550138e-01,  1.41146763e-02,\n",
       "       -2.16305151e+00, -1.01049047e+00, -8.68335476e-01, -1.49140617e+00,\n",
       "        8.69592922e-01, -6.71475644e-01,  9.23771875e-01,  7.24818559e-01,\n",
       "        8.98129436e-01, -1.31256218e+00,  1.47632939e+00,  7.47667921e-02,\n",
       "       -2.12650479e+00, -1.62410764e-01, -9.62913935e-01,  1.03853138e+00,\n",
       "       -9.80507763e-01, -8.92983604e-01, -1.94697458e+00,  9.24812921e-01,\n",
       "       -4.03249260e-01, -2.31855530e-01, -1.10157394e+00, -9.23595692e-01,\n",
       "       -4.97490453e-01, -5.26398957e-02,  3.28502593e-01,  3.02276390e-01,\n",
       "       -3.31279638e-03,  1.67565180e+00, -7.11780512e-01,  9.50729518e-01,\n",
       "       -1.87270602e+00, -1.69900718e-01, -8.27483823e-01,  2.49267886e-02,\n",
       "        9.60031623e-01, -8.02392699e-01, -1.53972366e-01, -1.74966672e-01,\n",
       "       -1.19510090e+00, -5.45090754e-01,  8.10251956e-02,  1.47475544e+00,\n",
       "       -1.03048778e+00,  1.64169502e-01,  1.05088067e+00, -8.87340687e-01,\n",
       "        3.28751285e-01, -9.31561039e-01,  6.94989463e-01,  3.85752455e-01,\n",
       "       -9.08658603e-01, -7.07590615e-01,  1.47156013e-01, -6.32204641e-01,\n",
       "        1.03470656e+00, -2.34432938e-01, -6.27551255e-02, -1.86063531e+00,\n",
       "       -2.49772015e-01,  9.44490245e-01,  1.78233152e+00,  1.24227233e+00,\n",
       "        1.19042452e+00, -6.33623871e-01, -6.75942320e-01,  1.52596243e+00,\n",
       "       -8.44596678e-01, -2.23124682e+00, -1.15256955e+00,  1.03571040e+00,\n",
       "       -1.48519700e+00, -5.94716566e-01, -1.48386732e-01, -3.80903418e-01,\n",
       "       -8.79713383e-02, -1.67477670e-01,  5.96119724e-01, -1.70123157e-01,\n",
       "        1.62181662e+00, -5.70901975e-01, -9.07301653e-01,  8.68736871e-01,\n",
       "       -5.89540675e-01, -4.55434121e-01, -5.35682435e-01,  9.17486184e-01,\n",
       "        1.09095368e+00,  1.71861395e-01, -6.22844642e-01,  1.39907043e+00,\n",
       "        1.10834815e+00,  1.83398711e-01,  5.70152750e-01, -7.27458786e-01,\n",
       "        1.41727813e+00,  2.92134129e+00, -1.82100590e+00, -5.70119493e-01,\n",
       "        4.43871124e-01, -9.59075740e-01,  9.81070844e-01, -6.86785890e-01,\n",
       "       -4.04325383e-01,  3.22027680e-01,  9.69063828e-01,  1.18102278e+00,\n",
       "        4.70720176e-01, -8.67181693e-01,  8.60310779e-01,  1.82298637e-01,\n",
       "        1.92746223e-01, -1.71722841e+00, -2.16308819e+00, -1.81176518e+00,\n",
       "        6.60239316e-01, -8.28783230e-01, -9.65487241e-01,  6.42303522e-01,\n",
       "       -7.37368466e-01,  1.50423784e+00, -8.82419846e-01, -6.11585831e-02,\n",
       "        5.55196759e-01, -1.85199172e+00,  6.56328608e-01,  4.67282596e-01,\n",
       "       -4.41115569e-01,  1.44467212e+00,  5.87843729e-01, -3.08286417e-01,\n",
       "        1.24623367e+00,  8.39151675e-01,  4.23328985e-01,  3.07825417e-01,\n",
       "        1.11814889e+00,  2.01452173e-01, -4.87154295e-01,  9.90884213e-01,\n",
       "        1.89169127e-01, -5.14616540e-01,  7.84012511e-01, -1.04135193e+00,\n",
       "       -3.01303006e-01,  7.56942095e-01,  7.81095492e-01, -3.40271698e-01,\n",
       "       -7.20937720e-01, -8.96276518e-02,  3.99176909e-01,  8.16759766e-01,\n",
       "        6.06533438e-01,  2.03164551e-01, -3.11847971e-01,  5.19883563e-01,\n",
       "        7.83051410e-01,  2.83967232e+00, -4.43238815e-01, -1.32131689e+00,\n",
       "        1.32783131e+00,  5.63891722e-01, -3.01765665e-01,  4.55173805e-01,\n",
       "       -1.05786877e-01, -1.49235541e+00,  1.46004716e+00,  9.26343520e-01,\n",
       "        2.79516708e-01, -1.33239539e+00,  2.41485649e-01,  4.28386569e-01,\n",
       "       -1.64773430e-02,  4.88824748e-01,  1.19481072e+00,  7.05261676e-01,\n",
       "       -3.03778302e-02,  6.91484845e-01,  1.28751476e+00, -5.40299353e-01,\n",
       "        5.12406844e-01, -4.68306267e-01,  2.04734906e+00, -4.36838707e-01,\n",
       "       -1.13160258e+00,  1.55434489e+00,  4.61956581e-01, -2.22655804e+00,\n",
       "        8.11793158e-01,  4.94926765e-01,  2.24835963e+00, -7.11823146e-01,\n",
       "        2.95487848e-01,  9.40140931e-01, -1.23942782e+00,  3.03603462e-01,\n",
       "       -3.62237361e-01,  5.04486424e-01,  2.32337608e+00, -1.16339443e+00,\n",
       "       -3.33297917e-01,  5.46377761e-01,  2.40563591e-01,  7.09260834e-01,\n",
       "        6.34940809e-01,  1.43484013e+00, -1.54890248e-01,  1.21930199e+00,\n",
       "       -4.82833678e-01,  8.53381881e-01,  1.02794223e+00,  1.86499212e+00,\n",
       "        2.53295950e-01, -1.00926348e+00,  1.28534752e+00, -1.16422840e+00,\n",
       "       -6.47782516e-02,  1.05731977e+00, -8.25342972e-01, -2.08097309e-01,\n",
       "       -7.22877152e-01,  2.62073406e-01, -1.15944126e+00,  9.97553300e-01,\n",
       "       -1.17292359e+00, -4.92852407e-01,  1.13636870e+00,  6.00949296e-01,\n",
       "       -8.50067659e-01,  3.11650045e-01,  8.78572261e-01, -1.56000601e-02,\n",
       "        1.34222637e-01,  1.13749579e-01, -2.71089219e-01,  2.96406694e-01,\n",
       "        2.74164366e-01,  7.02658948e-01, -8.85719242e-01,  7.73642848e-01,\n",
       "       -6.22980283e-01, -5.53622319e-01,  7.30074841e-01, -2.72792188e-01,\n",
       "       -1.03248664e+00,  2.90056145e-04, -1.25669741e+00, -9.65249664e-01,\n",
       "        8.88417262e-01, -2.49891697e-01,  1.16006041e+00, -1.81931741e-01,\n",
       "        3.08712868e-01, -5.55657044e-01,  1.33763527e+00, -1.51319626e+00,\n",
       "        5.86111027e-01, -3.20065426e-01, -2.10883434e-01,  3.59609959e-01,\n",
       "       -1.22182406e+00,  5.04914691e-01,  7.88830331e-01, -8.25821736e-01,\n",
       "        4.46715619e-01, -1.74737647e+00, -4.10122555e-01,  4.58784203e-01,\n",
       "       -6.76544974e-01, -4.29554375e-01, -4.50725324e-01, -4.72032115e-01,\n",
       "        8.15322087e-01,  2.39766884e-01,  1.60163001e-01, -3.78735647e-01,\n",
       "        6.13199078e-01, -8.04242104e-01,  6.77185275e-01, -4.47589548e-01,\n",
       "        5.29718404e-01, -3.37765626e-01,  1.07463797e+00, -6.79623573e-01,\n",
       "       -2.65169096e-01, -1.72009087e+00,  6.32748794e-01,  7.59875387e-01,\n",
       "        8.21236062e-01,  8.92677466e-01, -3.63745884e-01,  4.90053305e-01,\n",
       "        8.49737239e-01, -2.71580261e+00,  1.23717637e+00, -4.32030340e-01,\n",
       "        5.48326701e-01, -2.63980637e-01,  9.57703304e-02, -3.57422638e+00,\n",
       "        1.95146735e-01, -1.40788015e+00, -2.91093089e-01,  1.30724990e-01,\n",
       "       -1.23450570e+00,  8.91782114e-01,  9.68617101e-01, -1.01758850e+00,\n",
       "       -2.82855760e-01,  5.03587724e-01,  2.08169201e-01, -2.05971872e+00,\n",
       "       -8.87393927e-01,  7.79068438e-01,  7.33682294e-01, -3.86160761e-01,\n",
       "        1.73181449e-01,  1.35838635e+00,  8.06150286e-01, -2.86642106e-01,\n",
       "       -9.78338219e-02, -1.95441283e+00, -1.07199626e+00, -1.14341661e+00,\n",
       "       -6.41037378e-01,  1.27962264e+00, -4.73066451e-01,  1.09526793e+00,\n",
       "        7.22603918e-01, -1.34950372e+00, -1.60495510e+00,  4.84477454e-01,\n",
       "        8.72852574e-02, -4.61757304e-01, -2.96043274e-01,  2.54654323e-01,\n",
       "       -2.26821069e-02, -4.47613493e-02, -1.47806788e+00,  1.19742375e-02,\n",
       "        1.00334000e+00,  2.60207931e-01, -1.40189470e+00, -3.79377783e-01,\n",
       "        2.16649507e-01,  1.01134752e+00,  1.26025364e+00, -8.13061604e-01,\n",
       "        1.06513171e+00,  7.06168309e-01,  1.52069861e+00,  1.82070540e+00,\n",
       "        6.46562077e-01,  1.22524080e+00,  1.61410504e+00,  2.50829658e-01,\n",
       "       -1.99214482e+00,  8.49057229e-01, -1.59786191e-01,  1.54221696e+00,\n",
       "       -4.95221188e-01,  1.87598666e-01,  1.09669280e+00, -8.69933416e-02,\n",
       "        4.69746352e-01,  5.71699495e-01, -1.29347300e+00, -7.72055306e-01,\n",
       "        1.49896218e+00,  9.09280205e-01, -2.00913125e-01,  1.58635442e+00,\n",
       "        1.43307554e-02, -1.53122011e+00,  4.31586636e-01,  1.23726233e+00,\n",
       "       -8.02650183e-02, -2.20783950e+00,  3.38586517e-01,  1.13892727e-01,\n",
       "        1.97544298e+00, -1.49876557e+00, -3.72951180e-01,  1.40291430e+00,\n",
       "       -1.62521896e-01,  1.41864719e-01, -6.78118980e-01,  1.05515802e+00,\n",
       "        1.19964737e+00, -5.52647655e-01,  1.09669880e+00, -6.81131099e-01,\n",
       "        1.44856852e-02, -2.33234866e-01,  7.60096545e-01,  4.61780956e-01,\n",
       "        1.51164880e+00, -1.95729515e-01,  7.24365020e-01, -2.03860412e+00,\n",
       "       -1.76880113e+00, -5.34513806e-02,  5.44610424e-01, -5.37620833e-01,\n",
       "       -2.39281453e-01,  1.71650194e-01, -5.76451801e-01,  3.48916623e-01,\n",
       "        5.83812121e-01, -1.39320525e+00, -3.64185737e-02, -1.88810200e-01,\n",
       "       -5.85563932e-01,  1.07222180e+00,  2.22679334e+00,  5.43561262e-01,\n",
       "        9.21347373e-01, -1.73862841e+00,  7.97991328e-01,  1.84066817e-01,\n",
       "       -2.95107542e-02,  2.85857591e+00, -1.00969939e-01,  8.60799950e-01,\n",
       "       -1.07400085e+00, -2.82993564e-01, -2.86490382e-01, -1.07761126e+00,\n",
       "        1.74493096e+00,  3.73051604e-01, -7.72345971e-01, -5.14471316e-01,\n",
       "       -4.88405241e-02,  3.90894171e-01,  5.32311411e-01,  1.46374897e-01,\n",
       "       -1.94179378e+00, -1.25761926e+00,  1.07465445e-01, -1.23058839e+00,\n",
       "       -1.11629187e+00,  4.99765504e-01,  8.95356172e-01,  1.05301684e+00,\n",
       "       -1.77308233e+00, -2.25438066e-01, -4.09306245e-01,  7.46974829e-01,\n",
       "       -4.96915483e-01,  2.71696737e-01,  4.01435314e-01,  1.82135590e+00,\n",
       "        1.80093017e-01, -7.48251731e-01,  6.30129101e-01, -1.46848961e+00,\n",
       "       -1.96974263e+00,  8.85565923e-01,  7.53483741e-01,  5.53675798e-01,\n",
       "        1.93428055e-01,  4.73600078e-01,  7.37908746e-01, -8.52034017e-01,\n",
       "        1.15976114e-01,  3.92228214e-02, -2.17880702e-01, -5.74905610e-01,\n",
       "        4.89060147e-01, -6.17916248e-01,  7.66799316e-01,  5.87615813e-01,\n",
       "       -8.88204250e-01,  6.95983845e-01,  1.55567694e+00,  1.17021264e+00,\n",
       "        5.02399578e-01, -6.81347905e-02, -2.91946424e+00, -1.07252208e+00,\n",
       "        4.48779881e-01, -4.05001767e-01,  1.39651053e+00, -1.43737613e-01,\n",
       "       -1.55662088e+00,  2.68574396e-01, -9.89241639e-01,  8.96629635e-01,\n",
       "        4.75055931e-01, -1.38838122e+00,  9.55892184e-01, -3.54504310e-01,\n",
       "        6.67657251e-01,  3.96623705e-01, -1.35131007e+00, -8.94538780e-01,\n",
       "       -7.08457133e-01,  1.31664742e-01,  2.43098970e+00,  1.88952592e-01,\n",
       "       -8.91494163e-01, -4.31578161e-01,  6.31571081e-03,  1.61919648e-01,\n",
       "       -1.30161755e+00, -2.07632180e+00, -1.88899314e-01,  1.52233420e+00,\n",
       "        9.54438004e-01,  5.30642650e-01, -4.27630415e-01,  2.21003405e+00,\n",
       "       -2.53405788e+00,  1.05245783e+00, -1.52730942e+00, -1.00631983e-01,\n",
       "        3.30825428e-02,  5.22479603e-01, -1.16281298e+00, -1.06823525e+00,\n",
       "        1.56894274e-01,  2.62678194e-02,  9.10194085e-01, -1.27618876e+00,\n",
       "       -2.09911620e-01,  1.52412987e+00, -1.26731566e-01, -3.14919883e+00,\n",
       "       -1.61235878e+00,  2.68037480e-01, -6.28780152e-01, -7.14352277e-01,\n",
       "        3.38817320e-01, -1.65022397e+00, -1.00831720e+00, -1.13143866e+00,\n",
       "        3.19989475e-01,  1.00690425e+00, -3.08797252e-01, -4.29685568e-01,\n",
       "       -1.32017322e+00,  3.67302481e-01,  5.67879530e-01, -1.52242485e+00,\n",
       "       -1.42389509e-01, -1.18947273e-01, -1.03342052e+00, -1.69545615e-01,\n",
       "        3.28879115e-01, -4.79508730e-02, -1.45099820e+00, -1.59555493e+00,\n",
       "       -1.44301437e-01, -1.04114715e+00, -5.30853265e-01, -2.36885266e-01,\n",
       "       -1.10413868e+00,  4.30820895e-01, -8.98594776e-01,  5.40332064e-01,\n",
       "       -4.32492588e-01,  3.79652209e-01,  1.67811514e+00, -1.26159952e+00,\n",
       "       -4.45706184e-01, -4.99791661e-01, -3.85539339e-01, -1.63650537e-01,\n",
       "       -9.68211415e-01, -3.71383588e-01, -6.88946097e-01,  8.08487341e-01,\n",
       "       -7.49740694e-02,  1.11029440e-01,  1.69966055e-01,  4.32201414e-01,\n",
       "        1.37261475e+00,  8.73790989e-01,  9.06393010e-01,  1.12391188e+00,\n",
       "        8.43333750e-01,  1.14917825e+00, -3.09688697e-01,  6.51394222e-01,\n",
       "       -3.35089568e-01,  4.34595477e-01,  4.04680432e-01,  3.73194691e-02,\n",
       "        1.00703787e-01, -3.39359103e-02, -1.40224994e+00,  3.25473158e-01,\n",
       "        8.27252546e-01, -7.77282915e-01, -3.82362980e-01,  7.35471331e-01,\n",
       "        6.14993288e-01,  6.23467507e-01,  1.44358613e+00, -8.92524166e-01,\n",
       "       -3.63113648e-02,  8.09634943e-01,  5.58639522e-01,  1.65329050e+00,\n",
       "       -8.09371652e-01, -2.40802924e-01,  8.39554009e-01, -6.94028801e-01,\n",
       "       -1.27319772e+00,  6.93391904e-01, -1.46783424e+00, -1.72777178e-01,\n",
       "        5.51917145e-01,  1.67270463e+00,  6.44086798e-01, -2.45704474e-01,\n",
       "       -1.85795318e-01, -1.90315488e+00,  1.51253745e+00,  1.09356742e+00,\n",
       "       -1.66020841e-01,  1.85430825e+00,  6.21557373e-01,  5.57727596e-01,\n",
       "        2.35529213e-02, -9.82390091e-01, -3.16657269e-01,  5.99540922e-01,\n",
       "        9.45560016e-01, -9.80250923e-02, -1.27803221e+00,  2.54054768e-01,\n",
       "       -7.22895835e-01,  7.22830918e-01, -5.10234878e-01,  1.87544776e-01,\n",
       "       -8.55817944e-01,  1.24123550e+00,  1.07520920e+00, -2.90261577e-02])"
      ]
     },
     "execution_count": 7,
     "metadata": {},
     "output_type": "execute_result"
    }
   ],
   "source": [
    "df = np.random.randn(1000)\n",
    "df"
   ]
  },
  {
   "cell_type": "code",
   "execution_count": 8,
   "metadata": {},
   "outputs": [
    {
     "ename": "AttributeError",
     "evalue": "'numpy.ndarray' object has no attribute 'plot'",
     "output_type": "error",
     "traceback": [
      "\u001b[0;31m---------------------------------------------------------------------------\u001b[0m",
      "\u001b[0;31mAttributeError\u001b[0m                            Traceback (most recent call last)",
      "\u001b[0;32m<ipython-input-8-848b80e64df8>\u001b[0m in \u001b[0;36m<module>\u001b[0;34m\u001b[0m\n\u001b[0;32m----> 1\u001b[0;31m \u001b[0mdf\u001b[0m\u001b[0;34m.\u001b[0m\u001b[0mplot\u001b[0m\u001b[0;34m(\u001b[0m\u001b[0;34m)\u001b[0m\u001b[0;34m\u001b[0m\u001b[0;34m\u001b[0m\u001b[0m\n\u001b[0m",
      "\u001b[0;31mAttributeError\u001b[0m: 'numpy.ndarray' object has no attribute 'plot'"
     ]
    }
   ],
   "source": [
    "df.plot()"
   ]
  },
  {
   "cell_type": "code",
   "execution_count": 10,
   "metadata": {},
   "outputs": [],
   "source": [
    "df = pd.DataFrame(df,index=pd.date_range('20200101',periods=1000))"
   ]
  },
  {
   "cell_type": "code",
   "execution_count": 11,
   "metadata": {},
   "outputs": [
    {
     "data": {
      "text/html": [
       "<div>\n",
       "<style scoped>\n",
       "    .dataframe tbody tr th:only-of-type {\n",
       "        vertical-align: middle;\n",
       "    }\n",
       "\n",
       "    .dataframe tbody tr th {\n",
       "        vertical-align: top;\n",
       "    }\n",
       "\n",
       "    .dataframe thead th {\n",
       "        text-align: right;\n",
       "    }\n",
       "</style>\n",
       "<table border=\"1\" class=\"dataframe\">\n",
       "  <thead>\n",
       "    <tr style=\"text-align: right;\">\n",
       "      <th></th>\n",
       "      <th>0</th>\n",
       "    </tr>\n",
       "  </thead>\n",
       "  <tbody>\n",
       "    <tr>\n",
       "      <th>2020-01-01</th>\n",
       "      <td>0.046226</td>\n",
       "    </tr>\n",
       "    <tr>\n",
       "      <th>2020-01-02</th>\n",
       "      <td>-0.478348</td>\n",
       "    </tr>\n",
       "    <tr>\n",
       "      <th>2020-01-03</th>\n",
       "      <td>-0.429763</td>\n",
       "    </tr>\n",
       "    <tr>\n",
       "      <th>2020-01-04</th>\n",
       "      <td>1.073707</td>\n",
       "    </tr>\n",
       "    <tr>\n",
       "      <th>2020-01-05</th>\n",
       "      <td>1.115438</td>\n",
       "    </tr>\n",
       "    <tr>\n",
       "      <th>...</th>\n",
       "      <td>...</td>\n",
       "    </tr>\n",
       "    <tr>\n",
       "      <th>2022-09-22</th>\n",
       "      <td>0.187545</td>\n",
       "    </tr>\n",
       "    <tr>\n",
       "      <th>2022-09-23</th>\n",
       "      <td>-0.855818</td>\n",
       "    </tr>\n",
       "    <tr>\n",
       "      <th>2022-09-24</th>\n",
       "      <td>1.241236</td>\n",
       "    </tr>\n",
       "    <tr>\n",
       "      <th>2022-09-25</th>\n",
       "      <td>1.075209</td>\n",
       "    </tr>\n",
       "    <tr>\n",
       "      <th>2022-09-26</th>\n",
       "      <td>-0.029026</td>\n",
       "    </tr>\n",
       "  </tbody>\n",
       "</table>\n",
       "<p>1000 rows × 1 columns</p>\n",
       "</div>"
      ],
      "text/plain": [
       "                   0\n",
       "2020-01-01  0.046226\n",
       "2020-01-02 -0.478348\n",
       "2020-01-03 -0.429763\n",
       "2020-01-04  1.073707\n",
       "2020-01-05  1.115438\n",
       "...              ...\n",
       "2022-09-22  0.187545\n",
       "2022-09-23 -0.855818\n",
       "2022-09-24  1.241236\n",
       "2022-09-25  1.075209\n",
       "2022-09-26 -0.029026\n",
       "\n",
       "[1000 rows x 1 columns]"
      ]
     },
     "execution_count": 11,
     "metadata": {},
     "output_type": "execute_result"
    }
   ],
   "source": [
    "df"
   ]
  },
  {
   "cell_type": "code",
   "execution_count": 12,
   "metadata": {},
   "outputs": [
    {
     "data": {
      "text/plain": [
       "<matplotlib.axes._subplots.AxesSubplot at 0x11d9f5290>"
      ]
     },
     "execution_count": 12,
     "metadata": {},
     "output_type": "execute_result"
    },
    {
     "data": {
      "image/png": "[encoded data removed]",
      "text/plain": [
       "<Figure size 432x288 with 1 Axes>"
      ]
     },
     "metadata": {
      "needs_background": "light"
     },
     "output_type": "display_data"
    }
   ],
   "source": [
    "df.plot()"
   ]
  },
  {
   "cell_type": "code",
   "execution_count": 13,
   "metadata": {},
   "outputs": [
    {
     "data": {
      "text/html": [
       "<div>\n",
       "<style scoped>\n",
       "    .dataframe tbody tr th:only-of-type {\n",
       "        vertical-align: middle;\n",
       "    }\n",
       "\n",
       "    .dataframe tbody tr th {\n",
       "        vertical-align: top;\n",
       "    }\n",
       "\n",
       "    .dataframe thead th {\n",
       "        text-align: right;\n",
       "    }\n",
       "</style>\n",
       "<table border=\"1\" class=\"dataframe\">\n",
       "  <thead>\n",
       "    <tr style=\"text-align: right;\">\n",
       "      <th></th>\n",
       "      <th>0</th>\n",
       "      <th>cumsum</th>\n",
       "    </tr>\n",
       "  </thead>\n",
       "  <tbody>\n",
       "    <tr>\n",
       "      <th>2020-01-01</th>\n",
       "      <td>0.046226</td>\n",
       "      <td>0.046226</td>\n",
       "    </tr>\n",
       "    <tr>\n",
       "      <th>2020-01-02</th>\n",
       "      <td>-0.478348</td>\n",
       "      <td>-0.432121</td>\n",
       "    </tr>\n",
       "    <tr>\n",
       "      <th>2020-01-03</th>\n",
       "      <td>-0.429763</td>\n",
       "      <td>-0.861884</td>\n",
       "    </tr>\n",
       "    <tr>\n",
       "      <th>2020-01-04</th>\n",
       "      <td>1.073707</td>\n",
       "      <td>0.211823</td>\n",
       "    </tr>\n",
       "    <tr>\n",
       "      <th>2020-01-05</th>\n",
       "      <td>1.115438</td>\n",
       "      <td>1.327261</td>\n",
       "    </tr>\n",
       "    <tr>\n",
       "      <th>...</th>\n",
       "      <td>...</td>\n",
       "      <td>...</td>\n",
       "    </tr>\n",
       "    <tr>\n",
       "      <th>2022-09-22</th>\n",
       "      <td>0.187545</td>\n",
       "      <td>-28.149739</td>\n",
       "    </tr>\n",
       "    <tr>\n",
       "      <th>2022-09-23</th>\n",
       "      <td>-0.855818</td>\n",
       "      <td>-29.005557</td>\n",
       "    </tr>\n",
       "    <tr>\n",
       "      <th>2022-09-24</th>\n",
       "      <td>1.241236</td>\n",
       "      <td>-27.764321</td>\n",
       "    </tr>\n",
       "    <tr>\n",
       "      <th>2022-09-25</th>\n",
       "      <td>1.075209</td>\n",
       "      <td>-26.689112</td>\n",
       "    </tr>\n",
       "    <tr>\n",
       "      <th>2022-09-26</th>\n",
       "      <td>-0.029026</td>\n",
       "      <td>-26.718138</td>\n",
       "    </tr>\n",
       "  </tbody>\n",
       "</table>\n",
       "<p>1000 rows × 2 columns</p>\n",
       "</div>"
      ],
      "text/plain": [
       "                   0     cumsum\n",
       "2020-01-01  0.046226   0.046226\n",
       "2020-01-02 -0.478348  -0.432121\n",
       "2020-01-03 -0.429763  -0.861884\n",
       "2020-01-04  1.073707   0.211823\n",
       "2020-01-05  1.115438   1.327261\n",
       "...              ...        ...\n",
       "2022-09-22  0.187545 -28.149739\n",
       "2022-09-23 -0.855818 -29.005557\n",
       "2022-09-24  1.241236 -27.764321\n",
       "2022-09-25  1.075209 -26.689112\n",
       "2022-09-26 -0.029026 -26.718138\n",
       "\n",
       "[1000 rows x 2 columns]"
      ]
     },
     "execution_count": 13,
     "metadata": {},
     "output_type": "execute_result"
    }
   ],
   "source": [
    "df['cumsum'] = df.cumsum()\n",
    "df"
   ]
  },
  {
   "cell_type": "code",
   "execution_count": 14,
   "metadata": {},
   "outputs": [
    {
     "data": {
      "text/plain": [
       "<matplotlib.axes._subplots.AxesSubplot at 0x11e550e90>"
      ]
     },
     "execution_count": 14,
     "metadata": {},
     "output_type": "execute_result"
    },
    {
     "data": {
      "image/png": "[encoded data removed]",
      "text/plain": [
       "<Figure size 432x288 with 1 Axes>"
      ]
     },
     "metadata": {
      "needs_background": "light"
     },
     "output_type": "display_data"
    }
   ],
   "source": [
    "df['cumsum'].plot()"
   ]
  },
  {
   "cell_type": "code",
   "execution_count": 5,
   "metadata": {},
   "outputs": [],
   "source": [
    "# 3.4.3 多样本"
   ]
  },
  {
   "cell_type": "code",
   "execution_count": 24,
   "metadata": {},
   "outputs": [
    {
     "data": {
      "text/plain": [
       "array([[<matplotlib.axes._subplots.AxesSubplot object at 0x120ec48d0>]],\n",
       "      dtype=object)"
      ]
     },
     "execution_count": 24,
     "metadata": {},
     "output_type": "execute_result"
    },
    {
     "data": {
      "image/png": "[encoded data removed]",
      "text/plain": [
       "<Figure size 432x288 with 1 Axes>"
      ]
     },
     "metadata": {
      "needs_background": "light"
     },
     "output_type": "display_data"
    }
   ],
   "source": [
    "pd.DataFrame(np.random.randn(1000)).hist(bins=50)"
   ]
  },
  {
   "cell_type": "code",
   "execution_count": 34,
   "metadata": {},
   "outputs": [],
   "source": [
    "df2 = pd.DataFrame(np.random.randn(1000,4), columns = ['a','b','c','d'],\n",
    "                  index = pd.date_range('20200101',periods=1000))"
   ]
  },
  {
   "cell_type": "code",
   "execution_count": 35,
   "metadata": {},
   "outputs": [
    {
     "data": {
      "text/html": [
       "<div>\n",
       "<style scoped>\n",
       "    .dataframe tbody tr th:only-of-type {\n",
       "        vertical-align: middle;\n",
       "    }\n",
       "\n",
       "    .dataframe tbody tr th {\n",
       "        vertical-align: top;\n",
       "    }\n",
       "\n",
       "    .dataframe thead th {\n",
       "        text-align: right;\n",
       "    }\n",
       "</style>\n",
       "<table border=\"1\" class=\"dataframe\">\n",
       "  <thead>\n",
       "    <tr style=\"text-align: right;\">\n",
       "      <th></th>\n",
       "      <th>a</th>\n",
       "      <th>b</th>\n",
       "      <th>c</th>\n",
       "      <th>d</th>\n",
       "    </tr>\n",
       "  </thead>\n",
       "  <tbody>\n",
       "    <tr>\n",
       "      <th>2020-01-01</th>\n",
       "      <td>-0.540521</td>\n",
       "      <td>0.264493</td>\n",
       "      <td>-1.247045</td>\n",
       "      <td>0.976396</td>\n",
       "    </tr>\n",
       "    <tr>\n",
       "      <th>2020-01-02</th>\n",
       "      <td>-0.025493</td>\n",
       "      <td>0.094312</td>\n",
       "      <td>1.078191</td>\n",
       "      <td>-1.181591</td>\n",
       "    </tr>\n",
       "    <tr>\n",
       "      <th>2020-01-03</th>\n",
       "      <td>1.340604</td>\n",
       "      <td>-0.280556</td>\n",
       "      <td>0.820088</td>\n",
       "      <td>0.352325</td>\n",
       "    </tr>\n",
       "    <tr>\n",
       "      <th>2020-01-04</th>\n",
       "      <td>0.348915</td>\n",
       "      <td>-0.035368</td>\n",
       "      <td>-0.536349</td>\n",
       "      <td>0.651380</td>\n",
       "    </tr>\n",
       "    <tr>\n",
       "      <th>2020-01-05</th>\n",
       "      <td>-2.160581</td>\n",
       "      <td>-1.349989</td>\n",
       "      <td>-2.523320</td>\n",
       "      <td>-1.191397</td>\n",
       "    </tr>\n",
       "    <tr>\n",
       "      <th>...</th>\n",
       "      <td>...</td>\n",
       "      <td>...</td>\n",
       "      <td>...</td>\n",
       "      <td>...</td>\n",
       "    </tr>\n",
       "    <tr>\n",
       "      <th>2022-09-22</th>\n",
       "      <td>-0.383892</td>\n",
       "      <td>-0.822608</td>\n",
       "      <td>1.621530</td>\n",
       "      <td>-0.523022</td>\n",
       "    </tr>\n",
       "    <tr>\n",
       "      <th>2022-09-23</th>\n",
       "      <td>-0.515754</td>\n",
       "      <td>-0.900910</td>\n",
       "      <td>0.039698</td>\n",
       "      <td>0.548958</td>\n",
       "    </tr>\n",
       "    <tr>\n",
       "      <th>2022-09-24</th>\n",
       "      <td>-2.001848</td>\n",
       "      <td>1.415893</td>\n",
       "      <td>0.641034</td>\n",
       "      <td>0.788675</td>\n",
       "    </tr>\n",
       "    <tr>\n",
       "      <th>2022-09-25</th>\n",
       "      <td>1.556356</td>\n",
       "      <td>0.766884</td>\n",
       "      <td>0.394139</td>\n",
       "      <td>0.353637</td>\n",
       "    </tr>\n",
       "    <tr>\n",
       "      <th>2022-09-26</th>\n",
       "      <td>0.013683</td>\n",
       "      <td>-0.409037</td>\n",
       "      <td>-0.147776</td>\n",
       "      <td>0.457222</td>\n",
       "    </tr>\n",
       "  </tbody>\n",
       "</table>\n",
       "<p>1000 rows × 4 columns</p>\n",
       "</div>"
      ],
      "text/plain": [
       "                   a         b         c         d\n",
       "2020-01-01 -0.540521  0.264493 -1.247045  0.976396\n",
       "2020-01-02 -0.025493  0.094312  1.078191 -1.181591\n",
       "2020-01-03  1.340604 -0.280556  0.820088  0.352325\n",
       "2020-01-04  0.348915 -0.035368 -0.536349  0.651380\n",
       "2020-01-05 -2.160581 -1.349989 -2.523320 -1.191397\n",
       "...              ...       ...       ...       ...\n",
       "2022-09-22 -0.383892 -0.822608  1.621530 -0.523022\n",
       "2022-09-23 -0.515754 -0.900910  0.039698  0.548958\n",
       "2022-09-24 -2.001848  1.415893  0.641034  0.788675\n",
       "2022-09-25  1.556356  0.766884  0.394139  0.353637\n",
       "2022-09-26  0.013683 -0.409037 -0.147776  0.457222\n",
       "\n",
       "[1000 rows x 4 columns]"
      ]
     },
     "execution_count": 35,
     "metadata": {},
     "output_type": "execute_result"
    }
   ],
   "source": [
    "df2"
   ]
  },
  {
   "cell_type": "code",
   "execution_count": 36,
   "metadata": {},
   "outputs": [
    {
     "data": {
      "text/plain": [
       "<matplotlib.axes._subplots.AxesSubplot at 0x11f657910>"
      ]
     },
     "execution_count": 36,
     "metadata": {},
     "output_type": "execute_result"
    },
    {
     "data": {
      "image/png": "[encoded data removed]",
      "text/plain": [
       "<Figure size 432x288 with 1 Axes>"
      ]
     },
     "metadata": {
      "needs_background": "light"
     },
     "output_type": "display_data"
    }
   ],
   "source": [
    "df2.plot()"
   ]
  },
  {
   "cell_type": "code",
   "execution_count": 37,
   "metadata": {},
   "outputs": [
    {
     "data": {
      "text/html": [
       "<div>\n",
       "<style scoped>\n",
       "    .dataframe tbody tr th:only-of-type {\n",
       "        vertical-align: middle;\n",
       "    }\n",
       "\n",
       "    .dataframe tbody tr th {\n",
       "        vertical-align: top;\n",
       "    }\n",
       "\n",
       "    .dataframe thead th {\n",
       "        text-align: right;\n",
       "    }\n",
       "</style>\n",
       "<table border=\"1\" class=\"dataframe\">\n",
       "  <thead>\n",
       "    <tr style=\"text-align: right;\">\n",
       "      <th></th>\n",
       "      <th>a</th>\n",
       "      <th>b</th>\n",
       "      <th>c</th>\n",
       "      <th>d</th>\n",
       "    </tr>\n",
       "  </thead>\n",
       "  <tbody>\n",
       "    <tr>\n",
       "      <th>2020-01-01</th>\n",
       "      <td>-0.540521</td>\n",
       "      <td>0.264493</td>\n",
       "      <td>-1.247045</td>\n",
       "      <td>0.976396</td>\n",
       "    </tr>\n",
       "    <tr>\n",
       "      <th>2020-01-02</th>\n",
       "      <td>-0.566014</td>\n",
       "      <td>0.358805</td>\n",
       "      <td>-0.168854</td>\n",
       "      <td>-0.205195</td>\n",
       "    </tr>\n",
       "    <tr>\n",
       "      <th>2020-01-03</th>\n",
       "      <td>0.774589</td>\n",
       "      <td>0.078249</td>\n",
       "      <td>0.651234</td>\n",
       "      <td>0.147130</td>\n",
       "    </tr>\n",
       "    <tr>\n",
       "      <th>2020-01-04</th>\n",
       "      <td>1.123504</td>\n",
       "      <td>0.042881</td>\n",
       "      <td>0.114886</td>\n",
       "      <td>0.798510</td>\n",
       "    </tr>\n",
       "    <tr>\n",
       "      <th>2020-01-05</th>\n",
       "      <td>-1.037077</td>\n",
       "      <td>-1.307108</td>\n",
       "      <td>-2.408435</td>\n",
       "      <td>-0.392887</td>\n",
       "    </tr>\n",
       "    <tr>\n",
       "      <th>...</th>\n",
       "      <td>...</td>\n",
       "      <td>...</td>\n",
       "      <td>...</td>\n",
       "      <td>...</td>\n",
       "    </tr>\n",
       "    <tr>\n",
       "      <th>2022-09-22</th>\n",
       "      <td>12.708852</td>\n",
       "      <td>2.524530</td>\n",
       "      <td>-1.570719</td>\n",
       "      <td>69.214720</td>\n",
       "    </tr>\n",
       "    <tr>\n",
       "      <th>2022-09-23</th>\n",
       "      <td>12.193098</td>\n",
       "      <td>1.623619</td>\n",
       "      <td>-1.531021</td>\n",
       "      <td>69.763678</td>\n",
       "    </tr>\n",
       "    <tr>\n",
       "      <th>2022-09-24</th>\n",
       "      <td>10.191250</td>\n",
       "      <td>3.039512</td>\n",
       "      <td>-0.889987</td>\n",
       "      <td>70.552353</td>\n",
       "    </tr>\n",
       "    <tr>\n",
       "      <th>2022-09-25</th>\n",
       "      <td>11.747606</td>\n",
       "      <td>3.806396</td>\n",
       "      <td>-0.495848</td>\n",
       "      <td>70.905990</td>\n",
       "    </tr>\n",
       "    <tr>\n",
       "      <th>2022-09-26</th>\n",
       "      <td>11.761289</td>\n",
       "      <td>3.397359</td>\n",
       "      <td>-0.643624</td>\n",
       "      <td>71.363212</td>\n",
       "    </tr>\n",
       "  </tbody>\n",
       "</table>\n",
       "<p>1000 rows × 4 columns</p>\n",
       "</div>"
      ],
      "text/plain": [
       "                    a         b         c          d\n",
       "2020-01-01  -0.540521  0.264493 -1.247045   0.976396\n",
       "2020-01-02  -0.566014  0.358805 -0.168854  -0.205195\n",
       "2020-01-03   0.774589  0.078249  0.651234   0.147130\n",
       "2020-01-04   1.123504  0.042881  0.114886   0.798510\n",
       "2020-01-05  -1.037077 -1.307108 -2.408435  -0.392887\n",
       "...               ...       ...       ...        ...\n",
       "2022-09-22  12.708852  2.524530 -1.570719  69.214720\n",
       "2022-09-23  12.193098  1.623619 -1.531021  69.763678\n",
       "2022-09-24  10.191250  3.039512 -0.889987  70.552353\n",
       "2022-09-25  11.747606  3.806396 -0.495848  70.905990\n",
       "2022-09-26  11.761289  3.397359 -0.643624  71.363212\n",
       "\n",
       "[1000 rows x 4 columns]"
      ]
     },
     "execution_count": 37,
     "metadata": {},
     "output_type": "execute_result"
    }
   ],
   "source": [
    "df2 = df2.cumsum()\n",
    "df2"
   ]
  },
  {
   "cell_type": "code",
   "execution_count": 38,
   "metadata": {},
   "outputs": [
    {
     "data": {
      "text/plain": [
       "<matplotlib.axes._subplots.AxesSubplot at 0x1211c1d90>"
      ]
     },
     "execution_count": 38,
     "metadata": {},
     "output_type": "execute_result"
    },
    {
     "data": {
      "image/png": "[encoded data removed]",
      "text/plain": [
       "<Figure size 432x288 with 1 Axes>"
      ]
     },
     "metadata": {
      "needs_background": "light"
     },
     "output_type": "display_data"
    }
   ],
   "source": [
    "df2.plot()"
   ]
  },
  {
   "cell_type": "code",
   "execution_count": null,
   "metadata": {},
   "outputs": [],
   "source": []
  }
 ],
 "metadata": {
  "kernelspec": {
   "display_name": "Python 3",
   "language": "python",
   "name": "python3"
  },
  "language_info": {
   "codemirror_mode": {
    "name": "ipython",
    "version": 3
   },
   "file_extension": ".py",
   "mimetype": "text/x-python",
   "name": "python",
   "nbconvert_exporter": "python",
   "pygments_lexer": "ipython3",
   "version": "3.7.6"
  }
 },
 "nbformat": 4,
 "nbformat_minor": 4
}
