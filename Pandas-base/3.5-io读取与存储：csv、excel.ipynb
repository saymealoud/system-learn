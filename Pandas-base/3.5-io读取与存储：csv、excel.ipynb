{
 "cells": [
  {
   "cell_type": "markdown",
   "metadata": {},
   "source": [
    "## 3.5.1 有哪些io方式\n",
    "\n",
    "- 数据分析阶段的重点：分析、建模\n",
    "\n",
    "## 3.5.2 读取和存储csv\n",
    "\n",
    "- 存储、读取、索引设置\n",
    "- 数据追加\n",
    "\n",
    "## 3.5.3 读取和存储excel\n",
    "\n",
    "- 存储、读取、工作表设置\n",
    "- 数据追加"
   ]
  },
  {
   "cell_type": "code",
   "metadata": {
    "ExecuteTime": {
     "end_time": "2024-05-19T09:09:03.788819Z",
     "start_time": "2024-05-19T09:09:03.786898Z"
    }
   },
   "source": [
    "import pandas as pd\n",
    "import numpy as np"
   ],
   "outputs": [],
   "execution_count": 39
  },
  {
   "cell_type": "code",
   "metadata": {
    "ExecuteTime": {
     "end_time": "2024-05-19T09:09:03.811015Z",
     "start_time": "2024-05-19T09:09:03.808704Z"
    }
   },
   "source": [
    "data = pd.DataFrame(np.random.randn(1000,3),columns=['a','b','c'],\n",
    "                   index=pd.date_range('20200101',periods=1000))"
   ],
   "outputs": [],
   "execution_count": 40
  },
  {
   "cell_type": "code",
   "metadata": {
    "ExecuteTime": {
     "end_time": "2024-05-19T09:09:03.819295Z",
     "start_time": "2024-05-19T09:09:03.815105Z"
    }
   },
   "source": [
    "data"
   ],
   "outputs": [
    {
     "data": {
      "text/plain": [
       "                   a         b         c\n",
       "2020-01-01  0.020135 -0.499029 -1.238012\n",
       "2020-01-02  0.386697  0.859078 -0.132450\n",
       "2020-01-03 -1.068120 -1.350477  0.585804\n",
       "2020-01-04  0.295700  0.924323  0.952206\n",
       "2020-01-05  0.200377  0.124585  0.510945\n",
       "...              ...       ...       ...\n",
       "2022-09-22 -1.468196 -1.038229 -1.301679\n",
       "2022-09-23  0.237349  0.877902  1.713553\n",
       "2022-09-24 -0.511768 -0.198326 -0.028762\n",
       "2022-09-25 -1.353956  0.909144  2.300395\n",
       "2022-09-26 -1.208891 -0.143507 -2.714516\n",
       "\n",
       "[1000 rows x 3 columns]"
      ],
      "text/html": [
       "<div>\n",
       "<style scoped>\n",
       "    .dataframe tbody tr th:only-of-type {\n",
       "        vertical-align: middle;\n",
       "    }\n",
       "\n",
       "    .dataframe tbody tr th {\n",
       "        vertical-align: top;\n",
       "    }\n",
       "\n",
       "    .dataframe thead th {\n",
       "        text-align: right;\n",
       "    }\n",
       "</style>\n",
       "<table border=\"1\" class=\"dataframe\">\n",
       "  <thead>\n",
       "    <tr style=\"text-align: right;\">\n",
       "      <th></th>\n",
       "      <th>a</th>\n",
       "      <th>b</th>\n",
       "      <th>c</th>\n",
       "    </tr>\n",
       "  </thead>\n",
       "  <tbody>\n",
       "    <tr>\n",
       "      <th>2020-01-01</th>\n",
       "      <td>0.020135</td>\n",
       "      <td>-0.499029</td>\n",
       "      <td>-1.238012</td>\n",
       "    </tr>\n",
       "    <tr>\n",
       "      <th>2020-01-02</th>\n",
       "      <td>0.386697</td>\n",
       "      <td>0.859078</td>\n",
       "      <td>-0.132450</td>\n",
       "    </tr>\n",
       "    <tr>\n",
       "      <th>2020-01-03</th>\n",
       "      <td>-1.068120</td>\n",
       "      <td>-1.350477</td>\n",
       "      <td>0.585804</td>\n",
       "    </tr>\n",
       "    <tr>\n",
       "      <th>2020-01-04</th>\n",
       "      <td>0.295700</td>\n",
       "      <td>0.924323</td>\n",
       "      <td>0.952206</td>\n",
       "    </tr>\n",
       "    <tr>\n",
       "      <th>2020-01-05</th>\n",
       "      <td>0.200377</td>\n",
       "      <td>0.124585</td>\n",
       "      <td>0.510945</td>\n",
       "    </tr>\n",
       "    <tr>\n",
       "      <th>...</th>\n",
       "      <td>...</td>\n",
       "      <td>...</td>\n",
       "      <td>...</td>\n",
       "    </tr>\n",
       "    <tr>\n",
       "      <th>2022-09-22</th>\n",
       "      <td>-1.468196</td>\n",
       "      <td>-1.038229</td>\n",
       "      <td>-1.301679</td>\n",
       "    </tr>\n",
       "    <tr>\n",
       "      <th>2022-09-23</th>\n",
       "      <td>0.237349</td>\n",
       "      <td>0.877902</td>\n",
       "      <td>1.713553</td>\n",
       "    </tr>\n",
       "    <tr>\n",
       "      <th>2022-09-24</th>\n",
       "      <td>-0.511768</td>\n",
       "      <td>-0.198326</td>\n",
       "      <td>-0.028762</td>\n",
       "    </tr>\n",
       "    <tr>\n",
       "      <th>2022-09-25</th>\n",
       "      <td>-1.353956</td>\n",
       "      <td>0.909144</td>\n",
       "      <td>2.300395</td>\n",
       "    </tr>\n",
       "    <tr>\n",
       "      <th>2022-09-26</th>\n",
       "      <td>-1.208891</td>\n",
       "      <td>-0.143507</td>\n",
       "      <td>-2.714516</td>\n",
       "    </tr>\n",
       "  </tbody>\n",
       "</table>\n",
       "<p>1000 rows × 3 columns</p>\n",
       "</div>"
      ]
     },
     "execution_count": 41,
     "metadata": {},
     "output_type": "execute_result"
    }
   ],
   "execution_count": 41
  },
  {
   "cell_type": "code",
   "metadata": {
    "ExecuteTime": {
     "end_time": "2024-05-19T09:09:03.825144Z",
     "start_time": "2024-05-19T09:09:03.820227Z"
    }
   },
   "source": [
    "# 数据存储\n",
    "data.to_csv('txt.csv') # route/file.csv"
   ],
   "outputs": [],
   "execution_count": 42
  },
  {
   "cell_type": "code",
   "metadata": {
    "ExecuteTime": {
     "end_time": "2024-05-19T09:09:03.830491Z",
     "start_time": "2024-05-19T09:09:03.825779Z"
    }
   },
   "source": [
    "filename = 'txt.csv'\n",
    "pd.read_csv(filename)"
   ],
   "outputs": [
    {
     "data": {
      "text/plain": [
       "     Unnamed: 0         a         b         c\n",
       "0    2020-01-01  0.020135 -0.499029 -1.238012\n",
       "1    2020-01-02  0.386697  0.859078 -0.132450\n",
       "2    2020-01-03 -1.068120 -1.350477  0.585804\n",
       "3    2020-01-04  0.295700  0.924323  0.952206\n",
       "4    2020-01-05  0.200377  0.124585  0.510945\n",
       "..          ...       ...       ...       ...\n",
       "995  2022-09-22 -1.468196 -1.038229 -1.301679\n",
       "996  2022-09-23  0.237349  0.877902  1.713553\n",
       "997  2022-09-24 -0.511768 -0.198326 -0.028762\n",
       "998  2022-09-25 -1.353956  0.909144  2.300395\n",
       "999  2022-09-26 -1.208891 -0.143507 -2.714516\n",
       "\n",
       "[1000 rows x 4 columns]"
      ],
      "text/html": [
       "<div>\n",
       "<style scoped>\n",
       "    .dataframe tbody tr th:only-of-type {\n",
       "        vertical-align: middle;\n",
       "    }\n",
       "\n",
       "    .dataframe tbody tr th {\n",
       "        vertical-align: top;\n",
       "    }\n",
       "\n",
       "    .dataframe thead th {\n",
       "        text-align: right;\n",
       "    }\n",
       "</style>\n",
       "<table border=\"1\" class=\"dataframe\">\n",
       "  <thead>\n",
       "    <tr style=\"text-align: right;\">\n",
       "      <th></th>\n",
       "      <th>Unnamed: 0</th>\n",
       "      <th>a</th>\n",
       "      <th>b</th>\n",
       "      <th>c</th>\n",
       "    </tr>\n",
       "  </thead>\n",
       "  <tbody>\n",
       "    <tr>\n",
       "      <th>0</th>\n",
       "      <td>2020-01-01</td>\n",
       "      <td>0.020135</td>\n",
       "      <td>-0.499029</td>\n",
       "      <td>-1.238012</td>\n",
       "    </tr>\n",
       "    <tr>\n",
       "      <th>1</th>\n",
       "      <td>2020-01-02</td>\n",
       "      <td>0.386697</td>\n",
       "      <td>0.859078</td>\n",
       "      <td>-0.132450</td>\n",
       "    </tr>\n",
       "    <tr>\n",
       "      <th>2</th>\n",
       "      <td>2020-01-03</td>\n",
       "      <td>-1.068120</td>\n",
       "      <td>-1.350477</td>\n",
       "      <td>0.585804</td>\n",
       "    </tr>\n",
       "    <tr>\n",
       "      <th>3</th>\n",
       "      <td>2020-01-04</td>\n",
       "      <td>0.295700</td>\n",
       "      <td>0.924323</td>\n",
       "      <td>0.952206</td>\n",
       "    </tr>\n",
       "    <tr>\n",
       "      <th>4</th>\n",
       "      <td>2020-01-05</td>\n",
       "      <td>0.200377</td>\n",
       "      <td>0.124585</td>\n",
       "      <td>0.510945</td>\n",
       "    </tr>\n",
       "    <tr>\n",
       "      <th>...</th>\n",
       "      <td>...</td>\n",
       "      <td>...</td>\n",
       "      <td>...</td>\n",
       "      <td>...</td>\n",
       "    </tr>\n",
       "    <tr>\n",
       "      <th>995</th>\n",
       "      <td>2022-09-22</td>\n",
       "      <td>-1.468196</td>\n",
       "      <td>-1.038229</td>\n",
       "      <td>-1.301679</td>\n",
       "    </tr>\n",
       "    <tr>\n",
       "      <th>996</th>\n",
       "      <td>2022-09-23</td>\n",
       "      <td>0.237349</td>\n",
       "      <td>0.877902</td>\n",
       "      <td>1.713553</td>\n",
       "    </tr>\n",
       "    <tr>\n",
       "      <th>997</th>\n",
       "      <td>2022-09-24</td>\n",
       "      <td>-0.511768</td>\n",
       "      <td>-0.198326</td>\n",
       "      <td>-0.028762</td>\n",
       "    </tr>\n",
       "    <tr>\n",
       "      <th>998</th>\n",
       "      <td>2022-09-25</td>\n",
       "      <td>-1.353956</td>\n",
       "      <td>0.909144</td>\n",
       "      <td>2.300395</td>\n",
       "    </tr>\n",
       "    <tr>\n",
       "      <th>999</th>\n",
       "      <td>2022-09-26</td>\n",
       "      <td>-1.208891</td>\n",
       "      <td>-0.143507</td>\n",
       "      <td>-2.714516</td>\n",
       "    </tr>\n",
       "  </tbody>\n",
       "</table>\n",
       "<p>1000 rows × 4 columns</p>\n",
       "</div>"
      ]
     },
     "execution_count": 43,
     "metadata": {},
     "output_type": "execute_result"
    }
   ],
   "execution_count": 43
  },
  {
   "cell_type": "code",
   "metadata": {
    "ExecuteTime": {
     "end_time": "2024-05-19T09:09:03.836185Z",
     "start_time": "2024-05-19T09:09:03.831420Z"
    }
   },
   "source": [
    "pd.read_csv(filename,index_col=['Unnamed: 0'])"
   ],
   "outputs": [
    {
     "data": {
      "text/plain": [
       "                   a         b         c\n",
       "2020-01-01  0.020135 -0.499029 -1.238012\n",
       "2020-01-02  0.386697  0.859078 -0.132450\n",
       "2020-01-03 -1.068120 -1.350477  0.585804\n",
       "2020-01-04  0.295700  0.924323  0.952206\n",
       "2020-01-05  0.200377  0.124585  0.510945\n",
       "...              ...       ...       ...\n",
       "2022-09-22 -1.468196 -1.038229 -1.301679\n",
       "2022-09-23  0.237349  0.877902  1.713553\n",
       "2022-09-24 -0.511768 -0.198326 -0.028762\n",
       "2022-09-25 -1.353956  0.909144  2.300395\n",
       "2022-09-26 -1.208891 -0.143507 -2.714516\n",
       "\n",
       "[1000 rows x 3 columns]"
      ],
      "text/html": [
       "<div>\n",
       "<style scoped>\n",
       "    .dataframe tbody tr th:only-of-type {\n",
       "        vertical-align: middle;\n",
       "    }\n",
       "\n",
       "    .dataframe tbody tr th {\n",
       "        vertical-align: top;\n",
       "    }\n",
       "\n",
       "    .dataframe thead th {\n",
       "        text-align: right;\n",
       "    }\n",
       "</style>\n",
       "<table border=\"1\" class=\"dataframe\">\n",
       "  <thead>\n",
       "    <tr style=\"text-align: right;\">\n",
       "      <th></th>\n",
       "      <th>a</th>\n",
       "      <th>b</th>\n",
       "      <th>c</th>\n",
       "    </tr>\n",
       "  </thead>\n",
       "  <tbody>\n",
       "    <tr>\n",
       "      <th>2020-01-01</th>\n",
       "      <td>0.020135</td>\n",
       "      <td>-0.499029</td>\n",
       "      <td>-1.238012</td>\n",
       "    </tr>\n",
       "    <tr>\n",
       "      <th>2020-01-02</th>\n",
       "      <td>0.386697</td>\n",
       "      <td>0.859078</td>\n",
       "      <td>-0.132450</td>\n",
       "    </tr>\n",
       "    <tr>\n",
       "      <th>2020-01-03</th>\n",
       "      <td>-1.068120</td>\n",
       "      <td>-1.350477</td>\n",
       "      <td>0.585804</td>\n",
       "    </tr>\n",
       "    <tr>\n",
       "      <th>2020-01-04</th>\n",
       "      <td>0.295700</td>\n",
       "      <td>0.924323</td>\n",
       "      <td>0.952206</td>\n",
       "    </tr>\n",
       "    <tr>\n",
       "      <th>2020-01-05</th>\n",
       "      <td>0.200377</td>\n",
       "      <td>0.124585</td>\n",
       "      <td>0.510945</td>\n",
       "    </tr>\n",
       "    <tr>\n",
       "      <th>...</th>\n",
       "      <td>...</td>\n",
       "      <td>...</td>\n",
       "      <td>...</td>\n",
       "    </tr>\n",
       "    <tr>\n",
       "      <th>2022-09-22</th>\n",
       "      <td>-1.468196</td>\n",
       "      <td>-1.038229</td>\n",
       "      <td>-1.301679</td>\n",
       "    </tr>\n",
       "    <tr>\n",
       "      <th>2022-09-23</th>\n",
       "      <td>0.237349</td>\n",
       "      <td>0.877902</td>\n",
       "      <td>1.713553</td>\n",
       "    </tr>\n",
       "    <tr>\n",
       "      <th>2022-09-24</th>\n",
       "      <td>-0.511768</td>\n",
       "      <td>-0.198326</td>\n",
       "      <td>-0.028762</td>\n",
       "    </tr>\n",
       "    <tr>\n",
       "      <th>2022-09-25</th>\n",
       "      <td>-1.353956</td>\n",
       "      <td>0.909144</td>\n",
       "      <td>2.300395</td>\n",
       "    </tr>\n",
       "    <tr>\n",
       "      <th>2022-09-26</th>\n",
       "      <td>-1.208891</td>\n",
       "      <td>-0.143507</td>\n",
       "      <td>-2.714516</td>\n",
       "    </tr>\n",
       "  </tbody>\n",
       "</table>\n",
       "<p>1000 rows × 3 columns</p>\n",
       "</div>"
      ]
     },
     "execution_count": 44,
     "metadata": {},
     "output_type": "execute_result"
    }
   ],
   "execution_count": 44
  },
  {
   "cell_type": "code",
   "metadata": {
    "ExecuteTime": {
     "end_time": "2024-05-19T09:09:03.838728Z",
     "start_time": "2024-05-19T09:09:03.836712Z"
    }
   },
   "source": [
    "# 存储前对数据索引进行命名：date\n",
    "data.index"
   ],
   "outputs": [
    {
     "data": {
      "text/plain": [
       "DatetimeIndex(['2020-01-01', '2020-01-02', '2020-01-03', '2020-01-04',\n",
       "               '2020-01-05', '2020-01-06', '2020-01-07', '2020-01-08',\n",
       "               '2020-01-09', '2020-01-10',\n",
       "               ...\n",
       "               '2022-09-17', '2022-09-18', '2022-09-19', '2022-09-20',\n",
       "               '2022-09-21', '2022-09-22', '2022-09-23', '2022-09-24',\n",
       "               '2022-09-25', '2022-09-26'],\n",
       "              dtype='datetime64[ns]', length=1000, freq='D')"
      ]
     },
     "execution_count": 45,
     "metadata": {},
     "output_type": "execute_result"
    }
   ],
   "execution_count": 45
  },
  {
   "cell_type": "code",
   "metadata": {
    "ExecuteTime": {
     "end_time": "2024-05-19T09:09:03.840983Z",
     "start_time": "2024-05-19T09:09:03.839225Z"
    }
   },
   "source": [
    "data.index.names"
   ],
   "outputs": [
    {
     "data": {
      "text/plain": [
       "FrozenList([None])"
      ]
     },
     "execution_count": 46,
     "metadata": {},
     "output_type": "execute_result"
    }
   ],
   "execution_count": 46
  },
  {
   "cell_type": "code",
   "metadata": {
    "ExecuteTime": {
     "end_time": "2024-05-19T09:09:03.845656Z",
     "start_time": "2024-05-19T09:09:03.843600Z"
    }
   },
   "source": [
    "data.index.names = ['date']"
   ],
   "outputs": [],
   "execution_count": 47
  },
  {
   "cell_type": "code",
   "metadata": {
    "ExecuteTime": {
     "end_time": "2024-05-19T09:09:03.860542Z",
     "start_time": "2024-05-19T09:09:03.856860Z"
    }
   },
   "source": [
    "data"
   ],
   "outputs": [
    {
     "data": {
      "text/plain": [
       "                   a         b         c\n",
       "date                                    \n",
       "2020-01-01  0.020135 -0.499029 -1.238012\n",
       "2020-01-02  0.386697  0.859078 -0.132450\n",
       "2020-01-03 -1.068120 -1.350477  0.585804\n",
       "2020-01-04  0.295700  0.924323  0.952206\n",
       "2020-01-05  0.200377  0.124585  0.510945\n",
       "...              ...       ...       ...\n",
       "2022-09-22 -1.468196 -1.038229 -1.301679\n",
       "2022-09-23  0.237349  0.877902  1.713553\n",
       "2022-09-24 -0.511768 -0.198326 -0.028762\n",
       "2022-09-25 -1.353956  0.909144  2.300395\n",
       "2022-09-26 -1.208891 -0.143507 -2.714516\n",
       "\n",
       "[1000 rows x 3 columns]"
      ],
      "text/html": [
       "<div>\n",
       "<style scoped>\n",
       "    .dataframe tbody tr th:only-of-type {\n",
       "        vertical-align: middle;\n",
       "    }\n",
       "\n",
       "    .dataframe tbody tr th {\n",
       "        vertical-align: top;\n",
       "    }\n",
       "\n",
       "    .dataframe thead th {\n",
       "        text-align: right;\n",
       "    }\n",
       "</style>\n",
       "<table border=\"1\" class=\"dataframe\">\n",
       "  <thead>\n",
       "    <tr style=\"text-align: right;\">\n",
       "      <th></th>\n",
       "      <th>a</th>\n",
       "      <th>b</th>\n",
       "      <th>c</th>\n",
       "    </tr>\n",
       "    <tr>\n",
       "      <th>date</th>\n",
       "      <th></th>\n",
       "      <th></th>\n",
       "      <th></th>\n",
       "    </tr>\n",
       "  </thead>\n",
       "  <tbody>\n",
       "    <tr>\n",
       "      <th>2020-01-01</th>\n",
       "      <td>0.020135</td>\n",
       "      <td>-0.499029</td>\n",
       "      <td>-1.238012</td>\n",
       "    </tr>\n",
       "    <tr>\n",
       "      <th>2020-01-02</th>\n",
       "      <td>0.386697</td>\n",
       "      <td>0.859078</td>\n",
       "      <td>-0.132450</td>\n",
       "    </tr>\n",
       "    <tr>\n",
       "      <th>2020-01-03</th>\n",
       "      <td>-1.068120</td>\n",
       "      <td>-1.350477</td>\n",
       "      <td>0.585804</td>\n",
       "    </tr>\n",
       "    <tr>\n",
       "      <th>2020-01-04</th>\n",
       "      <td>0.295700</td>\n",
       "      <td>0.924323</td>\n",
       "      <td>0.952206</td>\n",
       "    </tr>\n",
       "    <tr>\n",
       "      <th>2020-01-05</th>\n",
       "      <td>0.200377</td>\n",
       "      <td>0.124585</td>\n",
       "      <td>0.510945</td>\n",
       "    </tr>\n",
       "    <tr>\n",
       "      <th>...</th>\n",
       "      <td>...</td>\n",
       "      <td>...</td>\n",
       "      <td>...</td>\n",
       "    </tr>\n",
       "    <tr>\n",
       "      <th>2022-09-22</th>\n",
       "      <td>-1.468196</td>\n",
       "      <td>-1.038229</td>\n",
       "      <td>-1.301679</td>\n",
       "    </tr>\n",
       "    <tr>\n",
       "      <th>2022-09-23</th>\n",
       "      <td>0.237349</td>\n",
       "      <td>0.877902</td>\n",
       "      <td>1.713553</td>\n",
       "    </tr>\n",
       "    <tr>\n",
       "      <th>2022-09-24</th>\n",
       "      <td>-0.511768</td>\n",
       "      <td>-0.198326</td>\n",
       "      <td>-0.028762</td>\n",
       "    </tr>\n",
       "    <tr>\n",
       "      <th>2022-09-25</th>\n",
       "      <td>-1.353956</td>\n",
       "      <td>0.909144</td>\n",
       "      <td>2.300395</td>\n",
       "    </tr>\n",
       "    <tr>\n",
       "      <th>2022-09-26</th>\n",
       "      <td>-1.208891</td>\n",
       "      <td>-0.143507</td>\n",
       "      <td>-2.714516</td>\n",
       "    </tr>\n",
       "  </tbody>\n",
       "</table>\n",
       "<p>1000 rows × 3 columns</p>\n",
       "</div>"
      ]
     },
     "execution_count": 48,
     "metadata": {},
     "output_type": "execute_result"
    }
   ],
   "execution_count": 48
  },
  {
   "cell_type": "code",
   "metadata": {
    "ExecuteTime": {
     "end_time": "2024-05-19T09:09:03.890370Z",
     "start_time": "2024-05-19T09:09:03.886207Z"
    }
   },
   "source": [
    "data.to_csv(filename) # 完全覆盖/替换"
   ],
   "outputs": [],
   "execution_count": 49
  },
  {
   "cell_type": "code",
   "metadata": {
    "ExecuteTime": {
     "end_time": "2024-05-19T09:09:03.925390Z",
     "start_time": "2024-05-19T09:09:03.923780Z"
    }
   },
   "source": [
    "# 对已有文件进行数据追加\n",
    "data2 = data.tail()"
   ],
   "outputs": [],
   "execution_count": 50
  },
  {
   "cell_type": "code",
   "metadata": {
    "ExecuteTime": {
     "end_time": "2024-05-19T09:09:03.940576Z",
     "start_time": "2024-05-19T09:09:03.937515Z"
    }
   },
   "source": [
    "data2"
   ],
   "outputs": [
    {
     "data": {
      "text/plain": [
       "                   a         b         c\n",
       "date                                    \n",
       "2022-09-22 -1.468196 -1.038229 -1.301679\n",
       "2022-09-23  0.237349  0.877902  1.713553\n",
       "2022-09-24 -0.511768 -0.198326 -0.028762\n",
       "2022-09-25 -1.353956  0.909144  2.300395\n",
       "2022-09-26 -1.208891 -0.143507 -2.714516"
      ],
      "text/html": [
       "<div>\n",
       "<style scoped>\n",
       "    .dataframe tbody tr th:only-of-type {\n",
       "        vertical-align: middle;\n",
       "    }\n",
       "\n",
       "    .dataframe tbody tr th {\n",
       "        vertical-align: top;\n",
       "    }\n",
       "\n",
       "    .dataframe thead th {\n",
       "        text-align: right;\n",
       "    }\n",
       "</style>\n",
       "<table border=\"1\" class=\"dataframe\">\n",
       "  <thead>\n",
       "    <tr style=\"text-align: right;\">\n",
       "      <th></th>\n",
       "      <th>a</th>\n",
       "      <th>b</th>\n",
       "      <th>c</th>\n",
       "    </tr>\n",
       "    <tr>\n",
       "      <th>date</th>\n",
       "      <th></th>\n",
       "      <th></th>\n",
       "      <th></th>\n",
       "    </tr>\n",
       "  </thead>\n",
       "  <tbody>\n",
       "    <tr>\n",
       "      <th>2022-09-22</th>\n",
       "      <td>-1.468196</td>\n",
       "      <td>-1.038229</td>\n",
       "      <td>-1.301679</td>\n",
       "    </tr>\n",
       "    <tr>\n",
       "      <th>2022-09-23</th>\n",
       "      <td>0.237349</td>\n",
       "      <td>0.877902</td>\n",
       "      <td>1.713553</td>\n",
       "    </tr>\n",
       "    <tr>\n",
       "      <th>2022-09-24</th>\n",
       "      <td>-0.511768</td>\n",
       "      <td>-0.198326</td>\n",
       "      <td>-0.028762</td>\n",
       "    </tr>\n",
       "    <tr>\n",
       "      <th>2022-09-25</th>\n",
       "      <td>-1.353956</td>\n",
       "      <td>0.909144</td>\n",
       "      <td>2.300395</td>\n",
       "    </tr>\n",
       "    <tr>\n",
       "      <th>2022-09-26</th>\n",
       "      <td>-1.208891</td>\n",
       "      <td>-0.143507</td>\n",
       "      <td>-2.714516</td>\n",
       "    </tr>\n",
       "  </tbody>\n",
       "</table>\n",
       "</div>"
      ]
     },
     "execution_count": 51,
     "metadata": {},
     "output_type": "execute_result"
    }
   ],
   "execution_count": 51
  },
  {
   "cell_type": "code",
   "metadata": {
    "ExecuteTime": {
     "end_time": "2024-05-19T09:09:03.967192Z",
     "start_time": "2024-05-19T09:09:03.965005Z"
    }
   },
   "source": [
    "# 首先判断是否有数据，有的情况下可以这么操作：\n",
    "data2.to_csv(filename,mode='a',header=False) # append - 追加操作"
   ],
   "outputs": [],
   "execution_count": 52
  },
  {
   "cell_type": "code",
   "metadata": {
    "ExecuteTime": {
     "end_time": "2024-05-19T09:09:03.996038Z",
     "start_time": "2024-05-19T09:09:03.994701Z"
    }
   },
   "source": [
    "# excel\n",
    "excelname = 'excel.xlsx'"
   ],
   "outputs": [],
   "execution_count": 53
  },
  {
   "cell_type": "code",
   "metadata": {
    "ExecuteTime": {
     "end_time": "2024-05-19T09:09:04.042586Z",
     "start_time": "2024-05-19T09:09:04.003560Z"
    }
   },
   "source": [
    "data.to_excel(excelname,sheet_name='a')"
   ],
   "outputs": [],
   "execution_count": 54
  },
  {
   "cell_type": "code",
   "metadata": {
    "ExecuteTime": {
     "end_time": "2024-05-19T09:09:04.065529Z",
     "start_time": "2024-05-19T09:09:04.043346Z"
    }
   },
   "source": [
    "pd.read_excel(excelname)"
   ],
   "outputs": [
    {
     "data": {
      "text/plain": [
       "          date         a         b         c\n",
       "0   2020-01-01  0.020135 -0.499029 -1.238012\n",
       "1   2020-01-02  0.386697  0.859078 -0.132450\n",
       "2   2020-01-03 -1.068120 -1.350477  0.585804\n",
       "3   2020-01-04  0.295700  0.924323  0.952206\n",
       "4   2020-01-05  0.200377  0.124585  0.510945\n",
       "..         ...       ...       ...       ...\n",
       "995 2022-09-22 -1.468196 -1.038229 -1.301679\n",
       "996 2022-09-23  0.237349  0.877902  1.713553\n",
       "997 2022-09-24 -0.511768 -0.198326 -0.028762\n",
       "998 2022-09-25 -1.353956  0.909144  2.300395\n",
       "999 2022-09-26 -1.208891 -0.143507 -2.714516\n",
       "\n",
       "[1000 rows x 4 columns]"
      ],
      "text/html": [
       "<div>\n",
       "<style scoped>\n",
       "    .dataframe tbody tr th:only-of-type {\n",
       "        vertical-align: middle;\n",
       "    }\n",
       "\n",
       "    .dataframe tbody tr th {\n",
       "        vertical-align: top;\n",
       "    }\n",
       "\n",
       "    .dataframe thead th {\n",
       "        text-align: right;\n",
       "    }\n",
       "</style>\n",
       "<table border=\"1\" class=\"dataframe\">\n",
       "  <thead>\n",
       "    <tr style=\"text-align: right;\">\n",
       "      <th></th>\n",
       "      <th>date</th>\n",
       "      <th>a</th>\n",
       "      <th>b</th>\n",
       "      <th>c</th>\n",
       "    </tr>\n",
       "  </thead>\n",
       "  <tbody>\n",
       "    <tr>\n",
       "      <th>0</th>\n",
       "      <td>2020-01-01</td>\n",
       "      <td>0.020135</td>\n",
       "      <td>-0.499029</td>\n",
       "      <td>-1.238012</td>\n",
       "    </tr>\n",
       "    <tr>\n",
       "      <th>1</th>\n",
       "      <td>2020-01-02</td>\n",
       "      <td>0.386697</td>\n",
       "      <td>0.859078</td>\n",
       "      <td>-0.132450</td>\n",
       "    </tr>\n",
       "    <tr>\n",
       "      <th>2</th>\n",
       "      <td>2020-01-03</td>\n",
       "      <td>-1.068120</td>\n",
       "      <td>-1.350477</td>\n",
       "      <td>0.585804</td>\n",
       "    </tr>\n",
       "    <tr>\n",
       "      <th>3</th>\n",
       "      <td>2020-01-04</td>\n",
       "      <td>0.295700</td>\n",
       "      <td>0.924323</td>\n",
       "      <td>0.952206</td>\n",
       "    </tr>\n",
       "    <tr>\n",
       "      <th>4</th>\n",
       "      <td>2020-01-05</td>\n",
       "      <td>0.200377</td>\n",
       "      <td>0.124585</td>\n",
       "      <td>0.510945</td>\n",
       "    </tr>\n",
       "    <tr>\n",
       "      <th>...</th>\n",
       "      <td>...</td>\n",
       "      <td>...</td>\n",
       "      <td>...</td>\n",
       "      <td>...</td>\n",
       "    </tr>\n",
       "    <tr>\n",
       "      <th>995</th>\n",
       "      <td>2022-09-22</td>\n",
       "      <td>-1.468196</td>\n",
       "      <td>-1.038229</td>\n",
       "      <td>-1.301679</td>\n",
       "    </tr>\n",
       "    <tr>\n",
       "      <th>996</th>\n",
       "      <td>2022-09-23</td>\n",
       "      <td>0.237349</td>\n",
       "      <td>0.877902</td>\n",
       "      <td>1.713553</td>\n",
       "    </tr>\n",
       "    <tr>\n",
       "      <th>997</th>\n",
       "      <td>2022-09-24</td>\n",
       "      <td>-0.511768</td>\n",
       "      <td>-0.198326</td>\n",
       "      <td>-0.028762</td>\n",
       "    </tr>\n",
       "    <tr>\n",
       "      <th>998</th>\n",
       "      <td>2022-09-25</td>\n",
       "      <td>-1.353956</td>\n",
       "      <td>0.909144</td>\n",
       "      <td>2.300395</td>\n",
       "    </tr>\n",
       "    <tr>\n",
       "      <th>999</th>\n",
       "      <td>2022-09-26</td>\n",
       "      <td>-1.208891</td>\n",
       "      <td>-0.143507</td>\n",
       "      <td>-2.714516</td>\n",
       "    </tr>\n",
       "  </tbody>\n",
       "</table>\n",
       "<p>1000 rows × 4 columns</p>\n",
       "</div>"
      ]
     },
     "execution_count": 55,
     "metadata": {},
     "output_type": "execute_result"
    }
   ],
   "execution_count": 55
  },
  {
   "cell_type": "code",
   "metadata": {
    "ExecuteTime": {
     "end_time": "2024-05-19T09:09:04.105164Z",
     "start_time": "2024-05-19T09:09:04.066081Z"
    }
   },
   "source": [
    "data.to_excel(excelname,sheet_name='b') # 没有mode参数"
   ],
   "outputs": [],
   "execution_count": 56
  },
  {
   "cell_type": "code",
   "metadata": {
    "ExecuteTime": {
     "end_time": "2024-05-19T09:09:04.110221Z",
     "start_time": "2024-05-19T09:09:04.106294Z"
    }
   },
   "source": [
    "data.to_excel?"
   ],
   "outputs": [],
   "execution_count": 57
  },
  {
   "cell_type": "code",
   "metadata": {
    "ExecuteTime": {
     "end_time": "2024-05-19T09:09:04.291035Z",
     "start_time": "2024-05-19T09:09:04.110882Z"
    }
   },
   "source": [
    "# 一次写入多个sheet\n",
    "with pd.ExcelWriter('writer.xlsx') as writer:\n",
    "    data.to_excel(writer,sheet_name='a')\n",
    "    data.to_excel(writer,sheet_name='b')\n",
    "    data.to_excel(writer,sheet_name='c')"
   ],
   "outputs": [],
   "execution_count": 58
  },
  {
   "cell_type": "code",
   "metadata": {
    "ExecuteTime": {
     "end_time": "2024-05-19T09:09:04.384522Z",
     "start_time": "2024-05-19T09:09:04.291599Z"
    }
   },
   "source": [
    "# 追加新sheet\n",
    "with pd.ExcelWriter('writer.xlsx',mode='a',engine='openpyxl') as writer:\n",
    "    data2.to_excel(writer,sheet_name='d')"
   ],
   "outputs": [],
   "execution_count": 59
  },
  {
   "cell_type": "code",
   "metadata": {
    "ExecuteTime": {
     "end_time": "2024-05-19T09:09:04.562628Z",
     "start_time": "2024-05-19T09:09:04.385082Z"
    }
   },
   "source": [
    "# 测试excel追加数据至sheet\n",
    "with pd.ExcelWriter('writer.xlsx',mode='a',engine='openpyxl', if_sheet_exists='overlay') as writer:\n",
    "    data.to_excel(writer,sheet_name='d')"
   ],
   "outputs": [],
   "execution_count": 60
  },
  {
   "cell_type": "code",
   "metadata": {
    "ExecuteTime": {
     "end_time": "2024-05-19T09:09:04.564784Z",
     "start_time": "2024-05-19T09:09:04.563336Z"
    }
   },
   "source": [
    "# openpyxl库：读取 -> 追加新数据 -> 存入表格中"
   ],
   "outputs": [],
   "execution_count": 61
  },
  {
   "cell_type": "code",
   "metadata": {
    "ExecuteTime": {
     "end_time": "2024-05-19T09:09:04.566500Z",
     "start_time": "2024-05-19T09:09:04.565464Z"
    }
   },
   "source": [],
   "outputs": [],
   "execution_count": 61
  },
  {
   "cell_type": "code",
   "metadata": {
    "ExecuteTime": {
     "end_time": "2024-05-19T09:09:04.569097Z",
     "start_time": "2024-05-19T09:09:04.567999Z"
    }
   },
   "source": [],
   "outputs": [],
   "execution_count": 61
  }
 ],
 "metadata": {
  "kernelspec": {
   "display_name": "Python 3",
   "language": "python",
   "name": "python3"
  },
  "language_info": {
   "codemirror_mode": {
    "name": "ipython",
    "version": 3
   },
   "file_extension": ".py",
   "mimetype": "text/x-python",
   "name": "python",
   "nbconvert_exporter": "python",
   "pygments_lexer": "ipython3",
   "version": "3.7.6"
  }
 },
 "nbformat": 4,
 "nbformat_minor": 4
}
