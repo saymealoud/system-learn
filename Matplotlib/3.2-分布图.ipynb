{
 "cells": [
  {
   "cell_type": "code",
   "execution_count": 1,
   "metadata": {},
   "outputs": [],
   "source": [
    "# 分布图：单个变量的数值分布，密度图、直方图、箱型图、堆叠直方图"
   ]
  },
  {
   "cell_type": "code",
   "execution_count": 2,
   "metadata": {},
   "outputs": [],
   "source": [
    "import matplotlib.pyplot as plt\n",
    "import numpy as np\n",
    "import pandas as pd\n",
    "\n",
    "data = pd.read_excel('order2019.xlsx')"
   ]
  },
  {
   "cell_type": "code",
   "execution_count": 3,
   "metadata": {},
   "outputs": [
    {
     "data": {
      "text/html": [
       "<div>\n",
       "<style scoped>\n",
       "    .dataframe tbody tr th:only-of-type {\n",
       "        vertical-align: middle;\n",
       "    }\n",
       "\n",
       "    .dataframe tbody tr th {\n",
       "        vertical-align: top;\n",
       "    }\n",
       "\n",
       "    .dataframe thead th {\n",
       "        text-align: right;\n",
       "    }\n",
       "</style>\n",
       "<table border=\"1\" class=\"dataframe\">\n",
       "  <thead>\n",
       "    <tr style=\"text-align: right;\">\n",
       "      <th></th>\n",
       "      <th>id</th>\n",
       "      <th>orderID</th>\n",
       "      <th>userID</th>\n",
       "      <th>goodsID</th>\n",
       "      <th>orderAmount</th>\n",
       "      <th>payment</th>\n",
       "      <th>chanelID</th>\n",
       "      <th>platfromType</th>\n",
       "      <th>orderTime</th>\n",
       "      <th>payTime</th>\n",
       "      <th>chargeback</th>\n",
       "    </tr>\n",
       "  </thead>\n",
       "  <tbody>\n",
       "    <tr>\n",
       "      <th>0</th>\n",
       "      <td>1</td>\n",
       "      <td>sys-2018-254118088</td>\n",
       "      <td>user-157213</td>\n",
       "      <td>PR000064</td>\n",
       "      <td>272.51</td>\n",
       "      <td>272.51</td>\n",
       "      <td>渠道-0396</td>\n",
       "      <td>APP</td>\n",
       "      <td>2018-02-14 12:20:36</td>\n",
       "      <td>2019-02-28 13:38:41</td>\n",
       "      <td>否</td>\n",
       "    </tr>\n",
       "    <tr>\n",
       "      <th>1</th>\n",
       "      <td>2</td>\n",
       "      <td>sys-2018-263312190</td>\n",
       "      <td>user-191121</td>\n",
       "      <td>PR000583</td>\n",
       "      <td>337.93</td>\n",
       "      <td>337.93</td>\n",
       "      <td>渠道-0765</td>\n",
       "      <td>Wech atMP</td>\n",
       "      <td>2018-08-14 09:40:34</td>\n",
       "      <td>2019-01-01 14:47:14</td>\n",
       "      <td>是</td>\n",
       "    </tr>\n",
       "    <tr>\n",
       "      <th>2</th>\n",
       "      <td>3</td>\n",
       "      <td>sys-2018-188208169</td>\n",
       "      <td>user-211918</td>\n",
       "      <td>PR000082</td>\n",
       "      <td>905.68</td>\n",
       "      <td>891.23</td>\n",
       "      <td>渠道-0530</td>\n",
       "      <td>We c hatMP</td>\n",
       "      <td>2018-11-02 20:17:25</td>\n",
       "      <td>2019-01-19 20:06:35</td>\n",
       "      <td>否</td>\n",
       "    </tr>\n",
       "    <tr>\n",
       "      <th>3</th>\n",
       "      <td>4</td>\n",
       "      <td>sys-2018-203314910</td>\n",
       "      <td>user-201322</td>\n",
       "      <td>PR000302</td>\n",
       "      <td>786.27</td>\n",
       "      <td>688.88</td>\n",
       "      <td>渠道-0530</td>\n",
       "      <td>WEB</td>\n",
       "      <td>2018-11-19 10:36:39</td>\n",
       "      <td>2019-08-07 12:24:35</td>\n",
       "      <td>否</td>\n",
       "    </tr>\n",
       "    <tr>\n",
       "      <th>4</th>\n",
       "      <td>5</td>\n",
       "      <td>sys-2018-283989279</td>\n",
       "      <td>user-120872</td>\n",
       "      <td>PR000290</td>\n",
       "      <td>550.77</td>\n",
       "      <td>542.51</td>\n",
       "      <td>渠道-9527</td>\n",
       "      <td>APP</td>\n",
       "      <td>2018-12-26 11:19:16</td>\n",
       "      <td>2019-10-01 07:42:43</td>\n",
       "      <td>否</td>\n",
       "    </tr>\n",
       "  </tbody>\n",
       "</table>\n",
       "</div>"
      ],
      "text/plain": [
       "   id             orderID       userID   goodsID  orderAmount  payment  \\\n",
       "0   1  sys-2018-254118088  user-157213  PR000064       272.51   272.51   \n",
       "1   2  sys-2018-263312190  user-191121  PR000583       337.93   337.93   \n",
       "2   3  sys-2018-188208169  user-211918  PR000082       905.68   891.23   \n",
       "3   4  sys-2018-203314910  user-201322  PR000302       786.27   688.88   \n",
       "4   5  sys-2018-283989279  user-120872  PR000290       550.77   542.51   \n",
       "\n",
       "  chanelID platfromType           orderTime             payTime chargeback  \n",
       "0  渠道-0396         APP  2018-02-14 12:20:36 2019-02-28 13:38:41          否  \n",
       "1  渠道-0765    Wech atMP 2018-08-14 09:40:34 2019-01-01 14:47:14          是  \n",
       "2  渠道-0530   We c hatMP 2018-11-02 20:17:25 2019-01-19 20:06:35          否  \n",
       "3  渠道-0530         WEB  2018-11-19 10:36:39 2019-08-07 12:24:35          否  \n",
       "4  渠道-9527         APP  2018-12-26 11:19:16 2019-10-01 07:42:43          否  "
      ]
     },
     "execution_count": 3,
     "metadata": {},
     "output_type": "execute_result"
    }
   ],
   "source": [
    "data.head()"
   ]
  },
  {
   "cell_type": "code",
   "execution_count": 4,
   "metadata": {},
   "outputs": [
    {
     "data": {
      "text/plain": [
       "0    272.51\n",
       "1    337.93\n",
       "2    905.68\n",
       "3    786.27\n",
       "4    550.77\n",
       "Name: orderAmount, dtype: float64"
      ]
     },
     "execution_count": 4,
     "metadata": {},
     "output_type": "execute_result"
    }
   ],
   "source": [
    "data['orderAmount'].head()"
   ]
  },
  {
   "cell_type": "code",
   "execution_count": 5,
   "metadata": {},
   "outputs": [
    {
     "data": {
      "text/plain": [
       "(6.1, 5000)"
      ]
     },
     "execution_count": 5,
     "metadata": {},
     "output_type": "execute_result"
    },
    {
     "data": {
      "image/png": "[encoded data removed]",
      "text/plain": [
       "<Figure size 432x288 with 1 Axes>"
      ]
     },
     "metadata": {
      "needs_background": "light"
     },
     "output_type": "display_data"
    }
   ],
   "source": [
    "# 直方图：类别（数值）、频数（频率）\n",
    "plt.hist(data['orderAmount'],bins=1000)\n",
    "plt.xlim(data['orderAmount'].min(),5000)"
   ]
  },
  {
   "cell_type": "code",
   "execution_count": 6,
   "metadata": {},
   "outputs": [],
   "source": [
    "# 箱型图：1、单个变量 2、加入比较变量"
   ]
  },
  {
   "cell_type": "code",
   "execution_count": 11,
   "metadata": {},
   "outputs": [
    {
     "data": {
      "text/plain": [
       "(0, 2000)"
      ]
     },
     "execution_count": 11,
     "metadata": {},
     "output_type": "execute_result"
    },
    {
     "data": {
      "image/png": "[encoded data removed]",
      "text/plain": [
       "<Figure size 432x288 with 1 Axes>"
      ]
     },
     "metadata": {
      "needs_background": "light"
     },
     "output_type": "display_data"
    }
   ],
   "source": [
    "plt.boxplot(data['orderAmount']) # payment\n",
    "plt.ylim(0,2000)"
   ]
  },
  {
   "cell_type": "code",
   "execution_count": 13,
   "metadata": {},
   "outputs": [
    {
     "data": {
      "text/html": [
       "<div>\n",
       "<style scoped>\n",
       "    .dataframe tbody tr th:only-of-type {\n",
       "        vertical-align: middle;\n",
       "    }\n",
       "\n",
       "    .dataframe tbody tr th {\n",
       "        vertical-align: top;\n",
       "    }\n",
       "\n",
       "    .dataframe thead th {\n",
       "        text-align: right;\n",
       "    }\n",
       "</style>\n",
       "<table border=\"1\" class=\"dataframe\">\n",
       "  <thead>\n",
       "    <tr style=\"text-align: right;\">\n",
       "      <th></th>\n",
       "      <th>0</th>\n",
       "      <th>1</th>\n",
       "      <th>2</th>\n",
       "      <th>3</th>\n",
       "      <th>4</th>\n",
       "      <th>5</th>\n",
       "      <th>6</th>\n",
       "      <th>7</th>\n",
       "      <th>8</th>\n",
       "      <th>9</th>\n",
       "      <th>...</th>\n",
       "      <th>104547</th>\n",
       "      <th>104548</th>\n",
       "      <th>104549</th>\n",
       "      <th>104550</th>\n",
       "      <th>104551</th>\n",
       "      <th>104552</th>\n",
       "      <th>104553</th>\n",
       "      <th>104554</th>\n",
       "      <th>104555</th>\n",
       "      <th>104556</th>\n",
       "    </tr>\n",
       "  </thead>\n",
       "  <tbody>\n",
       "    <tr>\n",
       "      <th>orderAmount</th>\n",
       "      <td>272.51</td>\n",
       "      <td>337.93</td>\n",
       "      <td>905.68</td>\n",
       "      <td>786.27</td>\n",
       "      <td>550.77</td>\n",
       "      <td>425.2</td>\n",
       "      <td>1764.37</td>\n",
       "      <td>499.41</td>\n",
       "      <td>1103.00</td>\n",
       "      <td>465.41</td>\n",
       "      <td>...</td>\n",
       "      <td>1544.96</td>\n",
       "      <td>280.39</td>\n",
       "      <td>633.77</td>\n",
       "      <td>597.41</td>\n",
       "      <td>206.92</td>\n",
       "      <td>186.37</td>\n",
       "      <td>138.81</td>\n",
       "      <td>2632.27</td>\n",
       "      <td>1206.76</td>\n",
       "      <td>3053.70</td>\n",
       "    </tr>\n",
       "    <tr>\n",
       "      <th>payment</th>\n",
       "      <td>272.51</td>\n",
       "      <td>337.93</td>\n",
       "      <td>891.23</td>\n",
       "      <td>688.88</td>\n",
       "      <td>542.51</td>\n",
       "      <td>425.2</td>\n",
       "      <td>1707.04</td>\n",
       "      <td>480.42</td>\n",
       "      <td>1050.95</td>\n",
       "      <td>465.41</td>\n",
       "      <td>...</td>\n",
       "      <td>1379.23</td>\n",
       "      <td>256.74</td>\n",
       "      <td>633.77</td>\n",
       "      <td>576.89</td>\n",
       "      <td>161.28</td>\n",
       "      <td>126.21</td>\n",
       "      <td>138.81</td>\n",
       "      <td>2632.27</td>\n",
       "      <td>1029.46</td>\n",
       "      <td>2982.26</td>\n",
       "    </tr>\n",
       "  </tbody>\n",
       "</table>\n",
       "<p>2 rows × 104557 columns</p>\n",
       "</div>"
      ],
      "text/plain": [
       "             0       1       2       3       4       5        6       7       \\\n",
       "orderAmount  272.51  337.93  905.68  786.27  550.77   425.2  1764.37  499.41   \n",
       "payment      272.51  337.93  891.23  688.88  542.51   425.2  1707.04  480.42   \n",
       "\n",
       "              8       9       ...   104547  104548  104549  104550  104551  \\\n",
       "orderAmount  1103.00  465.41  ...  1544.96  280.39  633.77  597.41  206.92   \n",
       "payment      1050.95  465.41  ...  1379.23  256.74  633.77  576.89  161.28   \n",
       "\n",
       "             104552  104553   104554   104555   104556  \n",
       "orderAmount  186.37  138.81  2632.27  1206.76  3053.70  \n",
       "payment      126.21  138.81  2632.27  1029.46  2982.26  \n",
       "\n",
       "[2 rows x 104557 columns]"
      ]
     },
     "execution_count": 13,
     "metadata": {},
     "output_type": "execute_result"
    }
   ],
   "source": [
    "# 比较orderamount 和 payment 金额分布表现\n",
    "data2 = data[['orderAmount','payment']].T\n",
    "data2"
   ]
  },
  {
   "cell_type": "code",
   "execution_count": 17,
   "metadata": {},
   "outputs": [
    {
     "data": {
      "image/png": "[encoded data removed]",
      "text/plain": [
       "<Figure size 432x288 with 1 Axes>"
      ]
     },
     "metadata": {
      "needs_background": "light"
     },
     "output_type": "display_data"
    }
   ],
   "source": [
    "plt.boxplot(data2, showmeans=True, labels=data2.index.tolist())\n",
    "plt.ylim(0,3000)\n",
    "plt.grid()"
   ]
  },
  {
   "cell_type": "code",
   "execution_count": 18,
   "metadata": {},
   "outputs": [
    {
     "data": {
      "text/html": [
       "<div>\n",
       "<style scoped>\n",
       "    .dataframe tbody tr th:only-of-type {\n",
       "        vertical-align: middle;\n",
       "    }\n",
       "\n",
       "    .dataframe tbody tr th {\n",
       "        vertical-align: top;\n",
       "    }\n",
       "\n",
       "    .dataframe thead th {\n",
       "        text-align: right;\n",
       "    }\n",
       "</style>\n",
       "<table border=\"1\" class=\"dataframe\">\n",
       "  <thead>\n",
       "    <tr style=\"text-align: right;\">\n",
       "      <th></th>\n",
       "      <th>id</th>\n",
       "      <th>orderID</th>\n",
       "      <th>userID</th>\n",
       "      <th>goodsID</th>\n",
       "      <th>orderAmount</th>\n",
       "      <th>payment</th>\n",
       "      <th>chanelID</th>\n",
       "      <th>platfromType</th>\n",
       "      <th>orderTime</th>\n",
       "      <th>payTime</th>\n",
       "      <th>chargeback</th>\n",
       "    </tr>\n",
       "  </thead>\n",
       "  <tbody>\n",
       "    <tr>\n",
       "      <th>15</th>\n",
       "      <td>16</td>\n",
       "      <td>sys-2019-322802617</td>\n",
       "      <td>user-125220</td>\n",
       "      <td>PR000812</td>\n",
       "      <td>430.69</td>\n",
       "      <td>4223.476684</td>\n",
       "      <td>渠道-0530</td>\n",
       "      <td>Wech atMP</td>\n",
       "      <td>2019-01-01 07:59:45</td>\n",
       "      <td>2019-01-01 07:59:59</td>\n",
       "      <td>否</td>\n",
       "    </tr>\n",
       "    <tr>\n",
       "      <th>45</th>\n",
       "      <td>46</td>\n",
       "      <td>sys-2019-321496315</td>\n",
       "      <td>user-283798</td>\n",
       "      <td>PR000520</td>\n",
       "      <td>1052.36</td>\n",
       "      <td>9449.242956</td>\n",
       "      <td>渠道-0896</td>\n",
       "      <td>APP</td>\n",
       "      <td>2019-01-01 11:23:03</td>\n",
       "      <td>2019-01-01 11:23:17</td>\n",
       "      <td>否</td>\n",
       "    </tr>\n",
       "    <tr>\n",
       "      <th>65</th>\n",
       "      <td>66</td>\n",
       "      <td>sys-2019-355823490</td>\n",
       "      <td>user-258709</td>\n",
       "      <td>PR000927</td>\n",
       "      <td>358.94</td>\n",
       "      <td>3580.284755</td>\n",
       "      <td>渠道-9527</td>\n",
       "      <td>AP P</td>\n",
       "      <td>2019-01-01 12:31:55</td>\n",
       "      <td>2019-01-01 12:32:23</td>\n",
       "      <td>否</td>\n",
       "    </tr>\n",
       "    <tr>\n",
       "      <th>68</th>\n",
       "      <td>69</td>\n",
       "      <td>sys-2019-277578024</td>\n",
       "      <td>user-223627</td>\n",
       "      <td>PR000830</td>\n",
       "      <td>2331.25</td>\n",
       "      <td>22486.795449</td>\n",
       "      <td>渠道-0530</td>\n",
       "      <td>AP P</td>\n",
       "      <td>2019-01-01 12:37:41</td>\n",
       "      <td>2019-01-01 12:38:20</td>\n",
       "      <td>否</td>\n",
       "    </tr>\n",
       "    <tr>\n",
       "      <th>147</th>\n",
       "      <td>148</td>\n",
       "      <td>sys-2019-355060894</td>\n",
       "      <td>user-214122</td>\n",
       "      <td>PR000826</td>\n",
       "      <td>205.78</td>\n",
       "      <td>2044.275720</td>\n",
       "      <td>渠道-0007</td>\n",
       "      <td>APP</td>\n",
       "      <td>2019-01-01 14:44:49</td>\n",
       "      <td>2019-01-01 14:45:21</td>\n",
       "      <td>是</td>\n",
       "    </tr>\n",
       "    <tr>\n",
       "      <th>...</th>\n",
       "      <td>...</td>\n",
       "      <td>...</td>\n",
       "      <td>...</td>\n",
       "      <td>...</td>\n",
       "      <td>...</td>\n",
       "      <td>...</td>\n",
       "      <td>...</td>\n",
       "      <td>...</td>\n",
       "      <td>...</td>\n",
       "      <td>...</td>\n",
       "      <td>...</td>\n",
       "    </tr>\n",
       "    <tr>\n",
       "      <th>104454</th>\n",
       "      <td>104455</td>\n",
       "      <td>sys-2020-297258490</td>\n",
       "      <td>user-185944</td>\n",
       "      <td>PR000548</td>\n",
       "      <td>615.50</td>\n",
       "      <td>5828.118054</td>\n",
       "      <td>渠道-9527</td>\n",
       "      <td>APP</td>\n",
       "      <td>2020-01-01 18:53:17</td>\n",
       "      <td>2020-01-01 18:53:34</td>\n",
       "      <td>否</td>\n",
       "    </tr>\n",
       "    <tr>\n",
       "      <th>104462</th>\n",
       "      <td>104463</td>\n",
       "      <td>sys-2020-300346666</td>\n",
       "      <td>user-145319</td>\n",
       "      <td>PR000755</td>\n",
       "      <td>2326.08</td>\n",
       "      <td>20146.843121</td>\n",
       "      <td>渠道-0789</td>\n",
       "      <td>APP</td>\n",
       "      <td>2020-01-01 19:09:07</td>\n",
       "      <td>2020-01-01 19:09:20</td>\n",
       "      <td>是</td>\n",
       "    </tr>\n",
       "    <tr>\n",
       "      <th>104499</th>\n",
       "      <td>104500</td>\n",
       "      <td>sys-2020-259333238</td>\n",
       "      <td>user-141198</td>\n",
       "      <td>PR000784</td>\n",
       "      <td>284.61</td>\n",
       "      <td>2831.172018</td>\n",
       "      <td>渠道-9527</td>\n",
       "      <td>AP P</td>\n",
       "      <td>2020-01-01 20:45:37</td>\n",
       "      <td>2020-01-01 20:47:02</td>\n",
       "      <td>否</td>\n",
       "    </tr>\n",
       "    <tr>\n",
       "      <th>104512</th>\n",
       "      <td>104513</td>\n",
       "      <td>sys-2020-318418620</td>\n",
       "      <td>user-209226</td>\n",
       "      <td>PR000484</td>\n",
       "      <td>1890.46</td>\n",
       "      <td>18732.132402</td>\n",
       "      <td>渠道-0765</td>\n",
       "      <td>Wech atMP</td>\n",
       "      <td>2020-01-01 21:15:46</td>\n",
       "      <td>2020-01-01 21:15:59</td>\n",
       "      <td>否</td>\n",
       "    </tr>\n",
       "    <tr>\n",
       "      <th>104513</th>\n",
       "      <td>104514</td>\n",
       "      <td>sys-2020-249799538</td>\n",
       "      <td>user-249332</td>\n",
       "      <td>PR000455</td>\n",
       "      <td>2268.14</td>\n",
       "      <td>19766.273406</td>\n",
       "      <td>渠道-0191</td>\n",
       "      <td>APP</td>\n",
       "      <td>2020-01-01 21:16:46</td>\n",
       "      <td>2020-01-01 21:16:58</td>\n",
       "      <td>否</td>\n",
       "    </tr>\n",
       "  </tbody>\n",
       "</table>\n",
       "<p>2030 rows × 11 columns</p>\n",
       "</div>"
      ],
      "text/plain": [
       "            id             orderID       userID   goodsID  orderAmount  \\\n",
       "15          16  sys-2019-322802617  user-125220  PR000812       430.69   \n",
       "45          46  sys-2019-321496315  user-283798  PR000520      1052.36   \n",
       "65          66  sys-2019-355823490  user-258709  PR000927       358.94   \n",
       "68          69  sys-2019-277578024  user-223627  PR000830      2331.25   \n",
       "147        148  sys-2019-355060894  user-214122  PR000826       205.78   \n",
       "...        ...                 ...          ...       ...          ...   \n",
       "104454  104455  sys-2020-297258490  user-185944  PR000548       615.50   \n",
       "104462  104463  sys-2020-300346666  user-145319  PR000755      2326.08   \n",
       "104499  104500  sys-2020-259333238  user-141198  PR000784       284.61   \n",
       "104512  104513  sys-2020-318418620  user-209226  PR000484      1890.46   \n",
       "104513  104514  sys-2020-249799538  user-249332  PR000455      2268.14   \n",
       "\n",
       "             payment chanelID platfromType           orderTime  \\\n",
       "15       4223.476684  渠道-0530    Wech atMP 2019-01-01 07:59:45   \n",
       "45       9449.242956  渠道-0896         APP  2019-01-01 11:23:03   \n",
       "65       3580.284755  渠道-9527        AP P  2019-01-01 12:31:55   \n",
       "68      22486.795449  渠道-0530        AP P  2019-01-01 12:37:41   \n",
       "147      2044.275720  渠道-0007         APP  2019-01-01 14:44:49   \n",
       "...              ...      ...          ...                 ...   \n",
       "104454   5828.118054  渠道-9527         APP  2020-01-01 18:53:17   \n",
       "104462  20146.843121  渠道-0789         APP  2020-01-01 19:09:07   \n",
       "104499   2831.172018  渠道-9527        AP P  2020-01-01 20:45:37   \n",
       "104512  18732.132402  渠道-0765    Wech atMP 2020-01-01 21:15:46   \n",
       "104513  19766.273406  渠道-0191         APP  2020-01-01 21:16:46   \n",
       "\n",
       "                   payTime chargeback  \n",
       "15     2019-01-01 07:59:59          否  \n",
       "45     2019-01-01 11:23:17          否  \n",
       "65     2019-01-01 12:32:23          否  \n",
       "68     2019-01-01 12:38:20          否  \n",
       "147    2019-01-01 14:45:21          是  \n",
       "...                    ...        ...  \n",
       "104454 2020-01-01 18:53:34          否  \n",
       "104462 2020-01-01 19:09:20          是  \n",
       "104499 2020-01-01 20:47:02          否  \n",
       "104512 2020-01-01 21:15:59          否  \n",
       "104513 2020-01-01 21:16:58          否  \n",
       "\n",
       "[2030 rows x 11 columns]"
      ]
     },
     "execution_count": 18,
     "metadata": {},
     "output_type": "execute_result"
    }
   ],
   "source": [
    "data[data['payment']>data['orderAmount']]"
   ]
  },
  {
   "cell_type": "code",
   "execution_count": null,
   "metadata": {},
   "outputs": [],
   "source": []
  },
  {
   "cell_type": "code",
   "execution_count": null,
   "metadata": {},
   "outputs": [],
   "source": []
  },
  {
   "cell_type": "code",
   "execution_count": null,
   "metadata": {},
   "outputs": [],
   "source": []
  },
  {
   "cell_type": "code",
   "execution_count": null,
   "metadata": {},
   "outputs": [],
   "source": []
  },
  {
   "cell_type": "code",
   "execution_count": null,
   "metadata": {},
   "outputs": [],
   "source": []
  },
  {
   "cell_type": "code",
   "execution_count": null,
   "metadata": {},
   "outputs": [],
   "source": []
  },
  {
   "cell_type": "code",
   "execution_count": null,
   "metadata": {},
   "outputs": [],
   "source": []
  },
  {
   "cell_type": "code",
   "execution_count": 8,
   "metadata": {},
   "outputs": [],
   "source": [
    "# 离群值 > Q3+1.5*IQR，IQR=Q3-Q1\n",
    "# 离群值 < Q1-1.5*IQR，IQR=Q3-Q1"
   ]
  },
  {
   "cell_type": "code",
   "execution_count": null,
   "metadata": {},
   "outputs": [],
   "source": []
  }
 ],
 "metadata": {
  "kernelspec": {
   "display_name": "Python 3",
   "language": "python",
   "name": "python3"
  },
  "language_info": {
   "codemirror_mode": {
    "name": "ipython",
    "version": 3
   },
   "file_extension": ".py",
   "mimetype": "text/x-python",
   "name": "python",
   "nbconvert_exporter": "python",
   "pygments_lexer": "ipython3",
   "version": "3.7.6"
  }
 },
 "nbformat": 4,
 "nbformat_minor": 4
}
