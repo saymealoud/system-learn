{
 "cells": [
  {
   "cell_type": "code",
   "execution_count": 1,
   "metadata": {},
   "outputs": [],
   "source": [
    "# 分组：关注数据样本内部，不同分组数据的表现差异"
   ]
  },
  {
   "cell_type": "code",
   "execution_count": 2,
   "metadata": {},
   "outputs": [],
   "source": [
    "import matplotlib.pyplot as plt\n",
    "import numpy as np\n",
    "import pandas as pd"
   ]
  },
  {
   "cell_type": "code",
   "execution_count": 3,
   "metadata": {},
   "outputs": [],
   "source": [
    "# 获取数据\n",
    "df = pd.read_excel('order2019.xlsx')"
   ]
  },
  {
   "cell_type": "code",
   "execution_count": 4,
   "metadata": {},
   "outputs": [],
   "source": [
    "# 3.5.1 散点簇形图：颜色区分"
   ]
  },
  {
   "cell_type": "code",
   "execution_count": 5,
   "metadata": {},
   "outputs": [],
   "source": [
    "a_x = np.random.random(100) + 1\n",
    "a_y = np.random.random(100) + 1.5\n",
    "b_x = np.random.random(200) + 2.1\n",
    "b_y = np.random.random(200) + 1.7"
   ]
  },
  {
   "cell_type": "code",
   "execution_count": 6,
   "metadata": {},
   "outputs": [
    {
     "data": {
      "text/plain": [
       "<matplotlib.collections.PathCollection at 0x11fb6c3d0>"
      ]
     },
     "execution_count": 6,
     "metadata": {},
     "output_type": "execute_result"
    },
    {
     "data": {
      "image/png": "[encoded data removed]",
      "text/plain": [
       "<Figure size 432x288 with 1 Axes>"
      ]
     },
     "metadata": {
      "needs_background": "light"
     },
     "output_type": "display_data"
    }
   ],
   "source": [
    "plt.scatter(a_x,a_y)\n",
    "plt.scatter(b_x,b_y)"
   ]
  },
  {
   "cell_type": "code",
   "execution_count": 7,
   "metadata": {},
   "outputs": [],
   "source": [
    "# 3.5.2 分组条形图：1、颜色区分 2、引流渠道vs支付渠道"
   ]
  },
  {
   "cell_type": "code",
   "execution_count": 8,
   "metadata": {},
   "outputs": [],
   "source": [
    "x = ['a','b','c','d']\n",
    "axis1 = [1,2,3,4]\n",
    "axis2 = [1.2,2.2,3.2,4.2]\n",
    "y1 = [1,2,3,4]\n",
    "y2 = [2,3,4,1]"
   ]
  },
  {
   "cell_type": "code",
   "execution_count": 9,
   "metadata": {},
   "outputs": [
    {
     "data": {
      "text/plain": [
       "<BarContainer object of 4 artists>"
      ]
     },
     "execution_count": 9,
     "metadata": {},
     "output_type": "execute_result"
    },
    {
     "data": {
      "image/png": "[encoded data removed]",
      "text/plain": [
       "<Figure size 432x288 with 1 Axes>"
      ]
     },
     "metadata": {
      "needs_background": "light"
     },
     "output_type": "display_data"
    }
   ],
   "source": [
    "plt.bar(axis1,y1,width=0.2)\n",
    "plt.bar(axis2,y2,width=0.2)"
   ]
  },
  {
   "cell_type": "code",
   "execution_count": 10,
   "metadata": {},
   "outputs": [],
   "source": [
    "# 订单数据：渠道、支付平台、支付金额\n",
    "chanels = df['chanelID'].unique().tolist()[:3]"
   ]
  },
  {
   "cell_type": "code",
   "execution_count": 11,
   "metadata": {},
   "outputs": [],
   "source": [
    "df2 = df[(df['chanelID']==chanels[0]) | (df['chanelID']==chanels[1]) \n",
    "         | (df['chanelID']==chanels[2])]"
   ]
  },
  {
   "cell_type": "code",
   "execution_count": 12,
   "metadata": {},
   "outputs": [
    {
     "data": {
      "text/html": [
       "<div>\n",
       "<style scoped>\n",
       "    .dataframe tbody tr th:only-of-type {\n",
       "        vertical-align: middle;\n",
       "    }\n",
       "\n",
       "    .dataframe tbody tr th {\n",
       "        vertical-align: top;\n",
       "    }\n",
       "\n",
       "    .dataframe thead th {\n",
       "        text-align: right;\n",
       "    }\n",
       "</style>\n",
       "<table border=\"1\" class=\"dataframe\">\n",
       "  <thead>\n",
       "    <tr style=\"text-align: right;\">\n",
       "      <th></th>\n",
       "      <th>chanelID</th>\n",
       "      <th>platfromType</th>\n",
       "      <th>payment</th>\n",
       "    </tr>\n",
       "  </thead>\n",
       "  <tbody>\n",
       "    <tr>\n",
       "      <th>0</th>\n",
       "      <td>渠道-0396</td>\n",
       "      <td>APP</td>\n",
       "      <td>272.51</td>\n",
       "    </tr>\n",
       "    <tr>\n",
       "      <th>1</th>\n",
       "      <td>渠道-0765</td>\n",
       "      <td>Wech atMP</td>\n",
       "      <td>337.93</td>\n",
       "    </tr>\n",
       "    <tr>\n",
       "      <th>2</th>\n",
       "      <td>渠道-0530</td>\n",
       "      <td>We c hatMP</td>\n",
       "      <td>891.23</td>\n",
       "    </tr>\n",
       "    <tr>\n",
       "      <th>3</th>\n",
       "      <td>渠道-0530</td>\n",
       "      <td>WEB</td>\n",
       "      <td>688.88</td>\n",
       "    </tr>\n",
       "    <tr>\n",
       "      <th>5</th>\n",
       "      <td>渠道-0765</td>\n",
       "      <td>Wech atMP</td>\n",
       "      <td>425.20</td>\n",
       "    </tr>\n",
       "    <tr>\n",
       "      <th>...</th>\n",
       "      <td>...</td>\n",
       "      <td>...</td>\n",
       "      <td>...</td>\n",
       "    </tr>\n",
       "    <tr>\n",
       "      <th>104539</th>\n",
       "      <td>渠道-0396</td>\n",
       "      <td>Wech atMP</td>\n",
       "      <td>1620.03</td>\n",
       "    </tr>\n",
       "    <tr>\n",
       "      <th>104541</th>\n",
       "      <td>渠道-0396</td>\n",
       "      <td>APP</td>\n",
       "      <td>877.29</td>\n",
       "    </tr>\n",
       "    <tr>\n",
       "      <th>104543</th>\n",
       "      <td>渠道-0530</td>\n",
       "      <td>APP</td>\n",
       "      <td>85.27</td>\n",
       "    </tr>\n",
       "    <tr>\n",
       "      <th>104545</th>\n",
       "      <td>渠道-0530</td>\n",
       "      <td>APP</td>\n",
       "      <td>127.23</td>\n",
       "    </tr>\n",
       "    <tr>\n",
       "      <th>104546</th>\n",
       "      <td>渠道-0765</td>\n",
       "      <td>We c hatMP</td>\n",
       "      <td>926.72</td>\n",
       "    </tr>\n",
       "  </tbody>\n",
       "</table>\n",
       "<p>30202 rows × 3 columns</p>\n",
       "</div>"
      ],
      "text/plain": [
       "       chanelID platfromType  payment\n",
       "0       渠道-0396         APP    272.51\n",
       "1       渠道-0765    Wech atMP   337.93\n",
       "2       渠道-0530   We c hatMP   891.23\n",
       "3       渠道-0530         WEB    688.88\n",
       "5       渠道-0765    Wech atMP   425.20\n",
       "...         ...          ...      ...\n",
       "104539  渠道-0396    Wech atMP  1620.03\n",
       "104541  渠道-0396         APP    877.29\n",
       "104543  渠道-0530         APP     85.27\n",
       "104545  渠道-0530         APP    127.23\n",
       "104546  渠道-0765   We c hatMP   926.72\n",
       "\n",
       "[30202 rows x 3 columns]"
      ]
     },
     "execution_count": 12,
     "metadata": {},
     "output_type": "execute_result"
    }
   ],
   "source": [
    "df2 = df2[['chanelID','platfromType','payment']]\n",
    "df2"
   ]
  },
  {
   "cell_type": "code",
   "execution_count": 15,
   "metadata": {},
   "outputs": [
    {
     "data": {
      "text/html": [
       "<div>\n",
       "<style scoped>\n",
       "    .dataframe tbody tr th:only-of-type {\n",
       "        vertical-align: middle;\n",
       "    }\n",
       "\n",
       "    .dataframe tbody tr th {\n",
       "        vertical-align: top;\n",
       "    }\n",
       "\n",
       "    .dataframe thead th {\n",
       "        text-align: right;\n",
       "    }\n",
       "</style>\n",
       "<table border=\"1\" class=\"dataframe\">\n",
       "  <thead>\n",
       "    <tr style=\"text-align: right;\">\n",
       "      <th></th>\n",
       "      <th></th>\n",
       "      <th>payment</th>\n",
       "    </tr>\n",
       "    <tr>\n",
       "      <th>chanelID</th>\n",
       "      <th>platfromType</th>\n",
       "      <th></th>\n",
       "    </tr>\n",
       "  </thead>\n",
       "  <tbody>\n",
       "    <tr>\n",
       "      <th rowspan=\"10\" valign=\"top\">渠道-0396</th>\n",
       "      <th>AL i MP</th>\n",
       "      <td>2.094863e+04</td>\n",
       "    </tr>\n",
       "    <tr>\n",
       "      <th>ALiM P</th>\n",
       "      <td>1.350152e+05</td>\n",
       "    </tr>\n",
       "    <tr>\n",
       "      <th>AP P</th>\n",
       "      <td>6.770314e+05</td>\n",
       "    </tr>\n",
       "    <tr>\n",
       "      <th>APP</th>\n",
       "      <td>3.822016e+06</td>\n",
       "    </tr>\n",
       "    <tr>\n",
       "      <th>WE B</th>\n",
       "      <td>7.600349e+04</td>\n",
       "    </tr>\n",
       "    <tr>\n",
       "      <th>WEB</th>\n",
       "      <td>6.028438e+05</td>\n",
       "    </tr>\n",
       "    <tr>\n",
       "      <th>Wap</th>\n",
       "      <td>1.203890e+03</td>\n",
       "    </tr>\n",
       "    <tr>\n",
       "      <th>We c hatMP</th>\n",
       "      <td>5.566079e+05</td>\n",
       "    </tr>\n",
       "    <tr>\n",
       "      <th>Wech atMP</th>\n",
       "      <td>3.834436e+06</td>\n",
       "    </tr>\n",
       "    <tr>\n",
       "      <th>Wech atShop</th>\n",
       "      <td>1.211701e+04</td>\n",
       "    </tr>\n",
       "    <tr>\n",
       "      <th rowspan=\"10\" valign=\"top\">渠道-0530</th>\n",
       "      <th>AL i MP</th>\n",
       "      <td>4.186280e+04</td>\n",
       "    </tr>\n",
       "    <tr>\n",
       "      <th>ALiM P</th>\n",
       "      <td>1.916733e+05</td>\n",
       "    </tr>\n",
       "    <tr>\n",
       "      <th>AP P</th>\n",
       "      <td>8.756512e+05</td>\n",
       "    </tr>\n",
       "    <tr>\n",
       "      <th>APP</th>\n",
       "      <td>5.581815e+06</td>\n",
       "    </tr>\n",
       "    <tr>\n",
       "      <th>WE B</th>\n",
       "      <td>9.807031e+04</td>\n",
       "    </tr>\n",
       "    <tr>\n",
       "      <th>WEB</th>\n",
       "      <td>8.537743e+05</td>\n",
       "    </tr>\n",
       "    <tr>\n",
       "      <th>We c hatMP</th>\n",
       "      <td>8.070950e+05</td>\n",
       "    </tr>\n",
       "    <tr>\n",
       "      <th>We c hatShop</th>\n",
       "      <td>7.558300e+02</td>\n",
       "    </tr>\n",
       "    <tr>\n",
       "      <th>Wech atMP</th>\n",
       "      <td>6.040621e+06</td>\n",
       "    </tr>\n",
       "    <tr>\n",
       "      <th>Wech atShop</th>\n",
       "      <td>2.030326e+04</td>\n",
       "    </tr>\n",
       "    <tr>\n",
       "      <th rowspan=\"9\" valign=\"top\">渠道-0765</th>\n",
       "      <th>AL i MP</th>\n",
       "      <td>2.842479e+04</td>\n",
       "    </tr>\n",
       "    <tr>\n",
       "      <th>ALiM P</th>\n",
       "      <td>1.778161e+05</td>\n",
       "    </tr>\n",
       "    <tr>\n",
       "      <th>AP P</th>\n",
       "      <td>6.367093e+05</td>\n",
       "    </tr>\n",
       "    <tr>\n",
       "      <th>APP</th>\n",
       "      <td>4.420494e+06</td>\n",
       "    </tr>\n",
       "    <tr>\n",
       "      <th>WE B</th>\n",
       "      <td>8.613528e+04</td>\n",
       "    </tr>\n",
       "    <tr>\n",
       "      <th>WEB</th>\n",
       "      <td>6.129048e+05</td>\n",
       "    </tr>\n",
       "    <tr>\n",
       "      <th>We c hatMP</th>\n",
       "      <td>7.838473e+05</td>\n",
       "    </tr>\n",
       "    <tr>\n",
       "      <th>Wech atMP</th>\n",
       "      <td>4.372428e+06</td>\n",
       "    </tr>\n",
       "    <tr>\n",
       "      <th>Wech atShop</th>\n",
       "      <td>4.921460e+03</td>\n",
       "    </tr>\n",
       "  </tbody>\n",
       "</table>\n",
       "</div>"
      ],
      "text/plain": [
       "                            payment\n",
       "chanelID platfromType              \n",
       "渠道-0396  AL i MP       2.094863e+04\n",
       "         ALiM P        1.350152e+05\n",
       "         AP P          6.770314e+05\n",
       "         APP           3.822016e+06\n",
       "         WE B          7.600349e+04\n",
       "         WEB           6.028438e+05\n",
       "         Wap           1.203890e+03\n",
       "         We c hatMP    5.566079e+05\n",
       "         Wech atMP     3.834436e+06\n",
       "         Wech atShop   1.211701e+04\n",
       "渠道-0530  AL i MP       4.186280e+04\n",
       "         ALiM P        1.916733e+05\n",
       "         AP P          8.756512e+05\n",
       "         APP           5.581815e+06\n",
       "         WE B          9.807031e+04\n",
       "         WEB           8.537743e+05\n",
       "         We c hatMP    8.070950e+05\n",
       "         We c hatShop  7.558300e+02\n",
       "         Wech atMP     6.040621e+06\n",
       "         Wech atShop   2.030326e+04\n",
       "渠道-0765  AL i MP       2.842479e+04\n",
       "         ALiM P        1.778161e+05\n",
       "         AP P          6.367093e+05\n",
       "         APP           4.420494e+06\n",
       "         WE B          8.613528e+04\n",
       "         WEB           6.129048e+05\n",
       "         We c hatMP    7.838473e+05\n",
       "         Wech atMP     4.372428e+06\n",
       "         Wech atShop   4.921460e+03"
      ]
     },
     "execution_count": 15,
     "metadata": {},
     "output_type": "execute_result"
    }
   ],
   "source": [
    "res = df2.groupby(['chanelID','platfromType']).sum()\n",
    "res"
   ]
  },
  {
   "cell_type": "code",
   "execution_count": 30,
   "metadata": {},
   "outputs": [
    {
     "data": {
      "text/plain": [
       "[Text(0, 0, 'AL i MP'),\n",
       " Text(0, 0, 'ALiM P'),\n",
       " Text(0, 0, 'AP P '),\n",
       " Text(0, 0, 'APP '),\n",
       " Text(0, 0, 'WE B '),\n",
       " Text(0, 0, 'WEB '),\n",
       " Text(0, 0, 'Wap  ')]"
      ]
     },
     "execution_count": 30,
     "metadata": {},
     "output_type": "execute_result"
    },
    {
     "data": {
      "image/png": "[encoded data removed]",
      "text/plain": [
       "<Figure size 432x288 with 1 Axes>"
      ]
     },
     "metadata": {
      "needs_background": "light"
     },
     "output_type": "display_data"
    }
   ],
   "source": [
    "# 创建子图\n",
    "fig, ax = plt.subplots()\n",
    "\n",
    "# x轴分组位置设置\n",
    "labels1 = res.loc[chanels[0],:].index.tolist()\n",
    "labels2 = res.loc[chanels[1],:].index.tolist()\n",
    "labels3 = res.loc[chanels[2],:].index.tolist()\n",
    "size = len(labels)\n",
    "plt.bar(np.arange(size)+1, res.loc[chanels[0],'payment'].tolist(), width=0.2)\n",
    "plt.bar(np.arange(len(labels2))+1.2, res.loc[chanels[1],'payment'].tolist(), width=0.2)\n",
    "plt.bar(np.arange(len(labels3))+1.4, res.loc[chanels[2],'payment'].tolist(), width=0.2)\n",
    "\n",
    "# x轴类别数据\n",
    "ax.set_xticklabels(labels=labels1,rotation=45)"
   ]
  },
  {
   "cell_type": "code",
   "execution_count": null,
   "metadata": {},
   "outputs": [],
   "source": []
  },
  {
   "cell_type": "code",
   "execution_count": null,
   "metadata": {},
   "outputs": [],
   "source": []
  },
  {
   "cell_type": "code",
   "execution_count": null,
   "metadata": {},
   "outputs": [],
   "source": []
  },
  {
   "cell_type": "code",
   "execution_count": null,
   "metadata": {},
   "outputs": [],
   "source": []
  },
  {
   "cell_type": "code",
   "execution_count": null,
   "metadata": {},
   "outputs": [],
   "source": []
  },
  {
   "cell_type": "code",
   "execution_count": null,
   "metadata": {},
   "outputs": [],
   "source": []
  },
  {
   "cell_type": "code",
   "execution_count": null,
   "metadata": {},
   "outputs": [],
   "source": []
  },
  {
   "cell_type": "code",
   "execution_count": null,
   "metadata": {},
   "outputs": [],
   "source": [
    "\n"
   ]
  },
  {
   "cell_type": "code",
   "execution_count": null,
   "metadata": {},
   "outputs": [],
   "source": []
  },
  {
   "cell_type": "code",
   "execution_count": null,
   "metadata": {},
   "outputs": [],
   "source": []
  },
  {
   "cell_type": "code",
   "execution_count": 20,
   "metadata": {},
   "outputs": [
    {
     "data": {
      "text/plain": [
       "[20948.63,\n",
       " 135015.22435081718,\n",
       " 677031.3500889939,\n",
       " 3822016.217413017,\n",
       " 76003.48999999999,\n",
       " 602843.8209788937,\n",
       " 1203.89,\n",
       " 556607.8809662746,\n",
       " 3834435.6860787817,\n",
       " 12117.01]"
      ]
     },
     "execution_count": 20,
     "metadata": {},
     "output_type": "execute_result"
    }
   ],
   "source": [
    "res.loc[chanels[0],'payment'].tolist()"
   ]
  },
  {
   "cell_type": "code",
   "execution_count": null,
   "metadata": {},
   "outputs": [],
   "source": []
  },
  {
   "cell_type": "code",
   "execution_count": null,
   "metadata": {},
   "outputs": [],
   "source": []
  },
  {
   "cell_type": "code",
   "execution_count": null,
   "metadata": {},
   "outputs": [],
   "source": []
  },
  {
   "cell_type": "code",
   "execution_count": null,
   "metadata": {},
   "outputs": [],
   "source": []
  },
  {
   "cell_type": "code",
   "execution_count": null,
   "metadata": {},
   "outputs": [],
   "source": []
  },
  {
   "cell_type": "code",
   "execution_count": null,
   "metadata": {},
   "outputs": [],
   "source": []
  },
  {
   "cell_type": "code",
   "execution_count": null,
   "metadata": {},
   "outputs": [],
   "source": []
  },
  {
   "cell_type": "code",
   "execution_count": null,
   "metadata": {},
   "outputs": [],
   "source": []
  },
  {
   "cell_type": "code",
   "execution_count": null,
   "metadata": {},
   "outputs": [],
   "source": []
  },
  {
   "cell_type": "code",
   "execution_count": null,
   "metadata": {},
   "outputs": [],
   "source": []
  },
  {
   "cell_type": "code",
   "execution_count": null,
   "metadata": {},
   "outputs": [],
   "source": []
  },
  {
   "cell_type": "code",
   "execution_count": null,
   "metadata": {},
   "outputs": [],
   "source": []
  },
  {
   "cell_type": "code",
   "execution_count": null,
   "metadata": {},
   "outputs": [],
   "source": []
  },
  {
   "cell_type": "code",
   "execution_count": null,
   "metadata": {},
   "outputs": [],
   "source": []
  },
  {
   "cell_type": "code",
   "execution_count": null,
   "metadata": {},
   "outputs": [],
   "source": []
  },
  {
   "cell_type": "code",
   "execution_count": null,
   "metadata": {},
   "outputs": [],
   "source": []
  },
  {
   "cell_type": "code",
   "execution_count": null,
   "metadata": {},
   "outputs": [],
   "source": []
  },
  {
   "cell_type": "code",
   "execution_count": null,
   "metadata": {},
   "outputs": [],
   "source": []
  },
  {
   "cell_type": "code",
   "execution_count": null,
   "metadata": {},
   "outputs": [],
   "source": []
  },
  {
   "cell_type": "code",
   "execution_count": null,
   "metadata": {},
   "outputs": [],
   "source": []
  },
  {
   "cell_type": "code",
   "execution_count": null,
   "metadata": {},
   "outputs": [],
   "source": []
  },
  {
   "cell_type": "code",
   "execution_count": null,
   "metadata": {},
   "outputs": [],
   "source": []
  },
  {
   "cell_type": "code",
   "execution_count": null,
   "metadata": {},
   "outputs": [],
   "source": []
  }
 ],
 "metadata": {
  "kernelspec": {
   "display_name": "Python 3",
   "language": "python",
   "name": "python3"
  },
  "language_info": {
   "codemirror_mode": {
    "name": "ipython",
    "version": 3
   },
   "file_extension": ".py",
   "mimetype": "text/x-python",
   "name": "python",
   "nbconvert_exporter": "python",
   "pygments_lexer": "ipython3",
   "version": "3.7.6"
  }
 },
 "nbformat": 4,
 "nbformat_minor": 4
}
