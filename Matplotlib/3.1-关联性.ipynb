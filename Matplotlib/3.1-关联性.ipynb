{
 "cells": [
  {
   "cell_type": "code",
   "execution_count": 1,
   "metadata": {},
   "outputs": [],
   "source": [
    "# 关联性：散点图、矩阵图、热力图、日历热力图"
   ]
  },
  {
   "cell_type": "code",
   "execution_count": 2,
   "metadata": {},
   "outputs": [],
   "source": [
    "import matplotlib.pyplot as plt\n",
    "import numpy as np\n",
    "import pandas as pd"
   ]
  },
  {
   "cell_type": "code",
   "execution_count": 3,
   "metadata": {},
   "outputs": [],
   "source": [
    "# 散点图"
   ]
  },
  {
   "cell_type": "code",
   "execution_count": 4,
   "metadata": {},
   "outputs": [],
   "source": [
    "x = np.random.randn(100)\n",
    "y = np.random.randn(100)*0.5 + np.random.randn(1)"
   ]
  },
  {
   "cell_type": "code",
   "execution_count": 5,
   "metadata": {},
   "outputs": [
    {
     "data": {
      "text/plain": [
       "<function matplotlib.pyplot.scatter(x, y, s=None, c=None, marker=None, cmap=None, norm=None, vmin=None, vmax=None, alpha=None, linewidths=None, verts=None, edgecolors=None, *, plotnonfinite=False, data=None, **kwargs)>"
      ]
     },
     "execution_count": 5,
     "metadata": {},
     "output_type": "execute_result"
    }
   ],
   "source": [
    "plt.scatter"
   ]
  },
  {
   "cell_type": "code",
   "execution_count": 6,
   "metadata": {},
   "outputs": [
    {
     "data": {
      "image/png": "[encoded data removed]",
      "text/plain": [
       "<Figure size 432x288 with 1 Axes>"
      ]
     },
     "metadata": {
      "needs_background": "light"
     },
     "output_type": "display_data"
    }
   ],
   "source": [
    "plt.scatter(x=x,y=y,color='red',marker='*')\n",
    "plt.xlim(-2,2)\n",
    "plt.ylim(-0.5,1)\n",
    "plt.grid()"
   ]
  },
  {
   "cell_type": "code",
   "execution_count": 7,
   "metadata": {},
   "outputs": [
    {
     "data": {
      "text/html": [
       "<div>\n",
       "<style scoped>\n",
       "    .dataframe tbody tr th:only-of-type {\n",
       "        vertical-align: middle;\n",
       "    }\n",
       "\n",
       "    .dataframe tbody tr th {\n",
       "        vertical-align: top;\n",
       "    }\n",
       "\n",
       "    .dataframe thead th {\n",
       "        text-align: right;\n",
       "    }\n",
       "</style>\n",
       "<table border=\"1\" class=\"dataframe\">\n",
       "  <thead>\n",
       "    <tr style=\"text-align: right;\">\n",
       "      <th></th>\n",
       "      <th>id</th>\n",
       "      <th>orderAmount</th>\n",
       "      <th>payment</th>\n",
       "    </tr>\n",
       "  </thead>\n",
       "  <tbody>\n",
       "    <tr>\n",
       "      <th>count</th>\n",
       "      <td>104557.000000</td>\n",
       "      <td>104557.000000</td>\n",
       "      <td>104557.000000</td>\n",
       "    </tr>\n",
       "    <tr>\n",
       "      <th>mean</th>\n",
       "      <td>52279.000000</td>\n",
       "      <td>1049.681521</td>\n",
       "      <td>1167.494225</td>\n",
       "    </tr>\n",
       "    <tr>\n",
       "      <th>std</th>\n",
       "      <td>30183.150385</td>\n",
       "      <td>1054.409968</td>\n",
       "      <td>2174.024855</td>\n",
       "    </tr>\n",
       "    <tr>\n",
       "      <th>min</th>\n",
       "      <td>1.000000</td>\n",
       "      <td>6.100000</td>\n",
       "      <td>-12.470000</td>\n",
       "    </tr>\n",
       "    <tr>\n",
       "      <th>25%</th>\n",
       "      <td>26140.000000</td>\n",
       "      <td>432.040000</td>\n",
       "      <td>383.660000</td>\n",
       "    </tr>\n",
       "    <tr>\n",
       "      <th>50%</th>\n",
       "      <td>52279.000000</td>\n",
       "      <td>679.320000</td>\n",
       "      <td>641.230000</td>\n",
       "    </tr>\n",
       "    <tr>\n",
       "      <th>75%</th>\n",
       "      <td>78418.000000</td>\n",
       "      <td>1248.280000</td>\n",
       "      <td>1252.630000</td>\n",
       "    </tr>\n",
       "    <tr>\n",
       "      <th>max</th>\n",
       "      <td>104557.000000</td>\n",
       "      <td>28465.250000</td>\n",
       "      <td>83270.053829</td>\n",
       "    </tr>\n",
       "  </tbody>\n",
       "</table>\n",
       "</div>"
      ],
      "text/plain": [
       "                  id    orderAmount        payment\n",
       "count  104557.000000  104557.000000  104557.000000\n",
       "mean    52279.000000    1049.681521    1167.494225\n",
       "std     30183.150385    1054.409968    2174.024855\n",
       "min         1.000000       6.100000     -12.470000\n",
       "25%     26140.000000     432.040000     383.660000\n",
       "50%     52279.000000     679.320000     641.230000\n",
       "75%     78418.000000    1248.280000    1252.630000\n",
       "max    104557.000000   28465.250000   83270.053829"
      ]
     },
     "execution_count": 7,
     "metadata": {},
     "output_type": "execute_result"
    }
   ],
   "source": [
    "# 获取数据：订单数据\n",
    "data = pd.read_excel('order2019.xlsx')\n",
    "data.describe()"
   ]
  },
  {
   "cell_type": "code",
   "execution_count": 8,
   "metadata": {},
   "outputs": [
    {
     "data": {
      "text/html": [
       "<div>\n",
       "<style scoped>\n",
       "    .dataframe tbody tr th:only-of-type {\n",
       "        vertical-align: middle;\n",
       "    }\n",
       "\n",
       "    .dataframe tbody tr th {\n",
       "        vertical-align: top;\n",
       "    }\n",
       "\n",
       "    .dataframe thead th {\n",
       "        text-align: right;\n",
       "    }\n",
       "</style>\n",
       "<table border=\"1\" class=\"dataframe\">\n",
       "  <thead>\n",
       "    <tr style=\"text-align: right;\">\n",
       "      <th></th>\n",
       "      <th>id</th>\n",
       "      <th>orderID</th>\n",
       "      <th>userID</th>\n",
       "      <th>goodsID</th>\n",
       "      <th>orderAmount</th>\n",
       "      <th>payment</th>\n",
       "      <th>chanelID</th>\n",
       "      <th>platfromType</th>\n",
       "      <th>orderTime</th>\n",
       "      <th>payTime</th>\n",
       "      <th>chargeback</th>\n",
       "    </tr>\n",
       "  </thead>\n",
       "  <tbody>\n",
       "    <tr>\n",
       "      <th>0</th>\n",
       "      <td>1</td>\n",
       "      <td>sys-2018-254118088</td>\n",
       "      <td>user-157213</td>\n",
       "      <td>PR000064</td>\n",
       "      <td>272.51</td>\n",
       "      <td>272.51</td>\n",
       "      <td>渠道-0396</td>\n",
       "      <td>APP</td>\n",
       "      <td>2018-02-14 12:20:36</td>\n",
       "      <td>2019-02-28 13:38:41</td>\n",
       "      <td>否</td>\n",
       "    </tr>\n",
       "    <tr>\n",
       "      <th>1</th>\n",
       "      <td>2</td>\n",
       "      <td>sys-2018-263312190</td>\n",
       "      <td>user-191121</td>\n",
       "      <td>PR000583</td>\n",
       "      <td>337.93</td>\n",
       "      <td>337.93</td>\n",
       "      <td>渠道-0765</td>\n",
       "      <td>Wech atMP</td>\n",
       "      <td>2018-08-14 09:40:34</td>\n",
       "      <td>2019-01-01 14:47:14</td>\n",
       "      <td>是</td>\n",
       "    </tr>\n",
       "    <tr>\n",
       "      <th>2</th>\n",
       "      <td>3</td>\n",
       "      <td>sys-2018-188208169</td>\n",
       "      <td>user-211918</td>\n",
       "      <td>PR000082</td>\n",
       "      <td>905.68</td>\n",
       "      <td>891.23</td>\n",
       "      <td>渠道-0530</td>\n",
       "      <td>We c hatMP</td>\n",
       "      <td>2018-11-02 20:17:25</td>\n",
       "      <td>2019-01-19 20:06:35</td>\n",
       "      <td>否</td>\n",
       "    </tr>\n",
       "    <tr>\n",
       "      <th>3</th>\n",
       "      <td>4</td>\n",
       "      <td>sys-2018-203314910</td>\n",
       "      <td>user-201322</td>\n",
       "      <td>PR000302</td>\n",
       "      <td>786.27</td>\n",
       "      <td>688.88</td>\n",
       "      <td>渠道-0530</td>\n",
       "      <td>WEB</td>\n",
       "      <td>2018-11-19 10:36:39</td>\n",
       "      <td>2019-08-07 12:24:35</td>\n",
       "      <td>否</td>\n",
       "    </tr>\n",
       "    <tr>\n",
       "      <th>4</th>\n",
       "      <td>5</td>\n",
       "      <td>sys-2018-283989279</td>\n",
       "      <td>user-120872</td>\n",
       "      <td>PR000290</td>\n",
       "      <td>550.77</td>\n",
       "      <td>542.51</td>\n",
       "      <td>渠道-9527</td>\n",
       "      <td>APP</td>\n",
       "      <td>2018-12-26 11:19:16</td>\n",
       "      <td>2019-10-01 07:42:43</td>\n",
       "      <td>否</td>\n",
       "    </tr>\n",
       "  </tbody>\n",
       "</table>\n",
       "</div>"
      ],
      "text/plain": [
       "   id             orderID       userID   goodsID  orderAmount  payment  \\\n",
       "0   1  sys-2018-254118088  user-157213  PR000064       272.51   272.51   \n",
       "1   2  sys-2018-263312190  user-191121  PR000583       337.93   337.93   \n",
       "2   3  sys-2018-188208169  user-211918  PR000082       905.68   891.23   \n",
       "3   4  sys-2018-203314910  user-201322  PR000302       786.27   688.88   \n",
       "4   5  sys-2018-283989279  user-120872  PR000290       550.77   542.51   \n",
       "\n",
       "  chanelID platfromType           orderTime             payTime chargeback  \n",
       "0  渠道-0396         APP  2018-02-14 12:20:36 2019-02-28 13:38:41          否  \n",
       "1  渠道-0765    Wech atMP 2018-08-14 09:40:34 2019-01-01 14:47:14          是  \n",
       "2  渠道-0530   We c hatMP 2018-11-02 20:17:25 2019-01-19 20:06:35          否  \n",
       "3  渠道-0530         WEB  2018-11-19 10:36:39 2019-08-07 12:24:35          否  \n",
       "4  渠道-9527         APP  2018-12-26 11:19:16 2019-10-01 07:42:43          否  "
      ]
     },
     "execution_count": 8,
     "metadata": {},
     "output_type": "execute_result"
    }
   ],
   "source": [
    "data.head()"
   ]
  },
  {
   "cell_type": "code",
   "execution_count": 9,
   "metadata": {},
   "outputs": [
    {
     "data": {
      "text/plain": [
       "1001"
      ]
     },
     "execution_count": 9,
     "metadata": {},
     "output_type": "execute_result"
    }
   ],
   "source": [
    "# 探索：商品均价 vs 销售数量的相关性\n",
    "types = data['goodsID'].unique().tolist()\n",
    "len(types)"
   ]
  },
  {
   "cell_type": "code",
   "execution_count": 10,
   "metadata": {},
   "outputs": [],
   "source": [
    "prices = []\n",
    "amounts = []\n",
    "\n",
    "for t in types:\n",
    "    price = data[data['goodsID']==t]['orderAmount'].mean()\n",
    "    amount = len(data[data['goodsID']==t])\n",
    "    \n",
    "    prices.append(price)\n",
    "    amounts.append(amount)\n"
   ]
  },
  {
   "cell_type": "code",
   "execution_count": 11,
   "metadata": {},
   "outputs": [
    {
     "data": {
      "image/png": "[encoded data removed]",
      "text/plain": [
       "<Figure size 432x288 with 1 Axes>"
      ]
     },
     "metadata": {
      "needs_background": "light"
     },
     "output_type": "display_data"
    }
   ],
   "source": [
    "# 绘制散点图\n",
    "\n",
    "plt.scatter(x=prices,y=amounts,color='green',marker='*')\n",
    "\n",
    "plt.title('goods prices vs amounts')\n",
    "plt.xlabel('price')\n",
    "plt.ylabel('amount')\n",
    "\n",
    "plt.xlim(600,1500)\n",
    "plt.ylim(40,160)\n",
    "plt.grid()"
   ]
  },
  {
   "cell_type": "code",
   "execution_count": 12,
   "metadata": {},
   "outputs": [
    {
     "data": {
      "image/png": "[encoded data removed]",
      "text/plain": [
       "<Figure size 432x288 with 1 Axes>"
      ]
     },
     "metadata": {
      "needs_background": "light"
     },
     "output_type": "display_data"
    }
   ],
   "source": [
    "# 随机比较和可视化3个商品的订单和销售情况\n",
    "\n",
    "prices = []\n",
    "amounts = []\n",
    "\n",
    "for t in ['PR000064','PR000582','PR000302']:\n",
    "    price = data[data['goodsID']==t]['orderAmount'].mean()\n",
    "    amount = len(data[data['goodsID']==t])\n",
    "    \n",
    "    prices.append(price)\n",
    "    amounts.append(amount)\n",
    "    \n",
    "plt.scatter(x=prices[0],y=amounts[0],color='green',marker='*')\n",
    "plt.scatter(x=prices[1],y=amounts[1],color='red')\n",
    "plt.scatter(x=prices[2],y=amounts[2],color='blue',marker='+')\n",
    "\n",
    "plt.title('goods prices vs amounts')\n",
    "plt.xlabel('price')\n",
    "plt.ylabel('amount')\n",
    "\n",
    "plt.xlim(600,1500)\n",
    "plt.ylim(40,160)\n",
    "plt.grid()"
   ]
  },
  {
   "cell_type": "code",
   "execution_count": 13,
   "metadata": {},
   "outputs": [],
   "source": [
    "# 热力图：散点图坐标轴为数值型数据，热力图类别型数据，体现的是两组变量的相关性"
   ]
  },
  {
   "cell_type": "code",
   "execution_count": 14,
   "metadata": {},
   "outputs": [
    {
     "data": {
      "text/plain": [
       "array([[0.8, 0.2, 1. , 0.8, 0.8],\n",
       "       [0.6, 0.2, 0.9, 0.5, 0. ],\n",
       "       [0.4, 0.7, 0.9, 0.5, 0.3],\n",
       "       [0.5, 0.6, 0.8, 0.7, 0.2],\n",
       "       [0.7, 0.3, 0.2, 0.2, 0.9]])"
      ]
     },
     "execution_count": 14,
     "metadata": {},
     "output_type": "execute_result"
    }
   ],
   "source": [
    "# 案例背景：工厂出货品质的好坏\n",
    "factories = ['fac1','fac2','fac3','fac4','fac5']\n",
    "quanlity = ['bad','poor','general','good','great']\n",
    "result = np.round(np.random.random(25).reshape(5,5),1)\n",
    "result"
   ]
  },
  {
   "cell_type": "code",
   "execution_count": 18,
   "metadata": {},
   "outputs": [
    {
     "data": {
      "image/png": "[encoded data removed]",
      "text/plain": [
       "<Figure size 432x288 with 1 Axes>"
      ]
     },
     "metadata": {
      "needs_background": "light"
     },
     "output_type": "display_data"
    }
   ],
   "source": [
    "fig,ax = plt.subplots(1,1)\n",
    "\n",
    "ax.imshow(result)\n",
    "\n",
    "# 轮流锁定单元格\n",
    "for i in np.arange(len(factories)):\n",
    "    for j in np.arange(len(quanlity)):\n",
    "        plt.text(j,i,result[i][j],color='w',ha='center',va='center')\n",
    "        \n",
    "# 设置坐标轴的类别数据标签\n",
    "ax.set_xticks(np.arange(len(quanlity)))\n",
    "ax.set_yticks(np.arange(len(factories)))\n",
    "ax.set_xticklabels(quanlity)\n",
    "ax.set_yticklabels(factories)\n",
    "\n",
    "# 修饰工作\n",
    "ax.set_title('goods quality of factories')\n",
    "fig.tight_layout()"
   ]
  },
  {
   "cell_type": "code",
   "execution_count": null,
   "metadata": {},
   "outputs": [],
   "source": []
  }
 ],
 "metadata": {
  "kernelspec": {
   "display_name": "Python 3",
   "language": "python",
   "name": "python3"
  },
  "language_info": {
   "codemirror_mode": {
    "name": "ipython",
    "version": 3
   },
   "file_extension": ".py",
   "mimetype": "text/x-python",
   "name": "python",
   "nbconvert_exporter": "python",
   "pygments_lexer": "ipython3",
   "version": "3.7.6"
  }
 },
 "nbformat": 4,
 "nbformat_minor": 4
}
